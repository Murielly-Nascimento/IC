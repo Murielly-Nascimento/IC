{
 "cells": [
  {
   "cell_type": "markdown",
   "id": "741bc35f-931f-419f-ab4f-9991a60201c6",
   "metadata": {},
   "source": [
    "# Desenvolvimento de Modelos\n",
    "\n",
    "A nossa pergunta inicial era: Podemos prever atrasos na chegada de um voo?\n",
    "\n",
    "Um modelo pode ser visto como uma equação matemática usada para prever um valor dado um ou mais outros valores. Ele relaciona uma ou mais variáveis independentes a variáveis dependentes.\n",
    "\n",
    "## Table of Contents\n",
    "\n",
    "*   [1. Carregando Biblioteca e Dataset](#cell1)\n",
    "*   [2. Regressão Linear Simples](#cell2)\n",
    "*   [3. Assessing the Model Visually](#assess_vis)\n",
    "*   [4. Polynomial Regression](#poly_reg)\n",
    "*   [5. Assessing the Model](#assess)\n",
    "*   [6. Prediction and Decision Making](#pred)"
   ]
  },
  {
   "cell_type": "markdown",
   "id": "1580065e-0fc4-4d03-ba33-bd9815f8934d",
   "metadata": {},
   "source": [
    "### Carregando Biblioteca e Dataset\n",
    "\n",
    "Vamos primeiramente carregar os dados e ferramentas que precisamos."
   ]
  },
  {
   "cell_type": "code",
   "execution_count": 1,
   "id": "ad509b56-9649-4812-aad3-e84205ac5785",
   "metadata": {},
   "outputs": [
    {
     "name": "stderr",
     "output_type": "stream",
     "text": [
      "── Attaching packages ─────────────────────────────────────── tidyverse 1.3.0 ──\n",
      "✔ ggplot2 3.3.0     ✔ purrr   0.3.4\n",
      "✔ tibble  3.0.1     ✔ dplyr   0.8.5\n",
      "✔ tidyr   1.0.2     ✔ stringr 1.4.0\n",
      "✔ readr   1.3.1     ✔ forcats 0.5.0\n",
      "── Conflicts ────────────────────────────────────────── tidyverse_conflicts() ──\n",
      "✖ dplyr::filter() masks stats::filter()\n",
      "✖ dplyr::lag()    masks stats::lag()\n"
     ]
    }
   ],
   "source": [
    "# Carrega tidyverse\n",
    "library(tidyverse)"
   ]
  },
  {
   "cell_type": "markdown",
   "id": "d2c04b4f-46ba-4ede-a14e-233f3d7b64f6",
   "metadata": {},
   "source": [
    "A empresa IBM, mantém em seu site uma série de conjunto de dados. Nesse caso usaremos o <a href=\"https://developer.ibm.com/exchanges/data/all/airline/\">Airline Dataset</a> que contém dados de mais de 200 milhões de voos domésticos feitos em território americano, coletados pelo Departamento de Estatísticas de Transporte dos Estados Unidos. Por questões didáticas usaremos a amostra desses dados e não o arquivo inteiro.\n",
    "\n",
    "<ul>\n",
    "    <li>data source: <a href=\"https://dax-cdn.cdn.appdomain.cloud/dax-airline/1.0.1/lax_to_jfk.tar.gz\" target=\"_blank\">https://dax-cdn.cdn.appdomain.cloud/dax-airline/1.0.1/lax_to_jfk.tar.gz</a></li>\n",
    "    <li>data type: csv</li>\n",
    "</ul>"
   ]
  },
  {
   "cell_type": "code",
   "execution_count": null,
   "id": "afc75b11-92ce-4f56-8fab-f0d05ce6acce",
   "metadata": {},
   "outputs": [],
   "source": [
    "# url onde os dados estão localizados\n",
    "# url <- \"https://dax-cdn.cdn.appdomain.cloud/dax-airline/1.0.1/lax_to_jfk.tar.gz\"\n",
    "\n",
    "# download do arquivo\n",
    "#download.file(url, destfile = \"lax_to_jfk.tar.gz\")\n",
    "\n",
    "# extrair arquivo \n",
    "# remova tar = \"internal se estiver rodando este programa localmente\" \n",
    "# untar(\"lax_to_jfk.tar.gz\", tar = \"internal\")\n",
    "\n",
    "# Lemos o arquivo csv => read_csv (Se for de um formato diferente use a função apropriada, verifique a documentação de readr)\n",
    "companhias_aereas <- read_csv(\"dados/losAngeles_para_novaYork.csv\",\n",
    "                     col_types = cols(\n",
    "                      'DivDistance' = col_number(),\n",
    "                      'DivArrDelay' = col_number()\n",
    "                      ))"
   ]
  },
  {
   "cell_type": "markdown",
   "id": "e9cb265f-d967-45cf-bbaa-98c4e0ef6b22",
   "metadata": {},
   "source": [
    "### Regressão Linear Simples\n",
    "\n",
    "Refere-se a uma variável independente para fazer uma predição. É usada para entender a relação entre duas variáveis.\n",
    "\n",
    "<ul>\n",
    "    <li> $X$: Variável independente</li>\n",
    "    <li> $Y$: A resposta/variavel dependente (o que queremos prever)</li>\n",
    "</ul>\n",
    "\n",
    "**Função Linear**\n",
    "\n",
    "$$\n",
    "\\hat{Y} = b\\_0 + b\\_1  X\n",
    "$$\n",
    "\n",
    "<ul>\n",
    "    <li>$b_0$ o valor de Y quando X é 0 </li>\n",
    "    <li>$b_1$ coeficiente angular da equação</li>\n",
    "    <li>$\\hat{Y}$ (y-hat) o valor previsto pelo modelo</li>\n",
    "</ul>\n",
    "\n",
    "Ao lidarmos com esse modelo fazemos quatro suposições:\n",
    "\n",
    "<ol>\n",
    "    <li>Linearidade: A relação entre X e a média de Y é linear</li>\n",
    "    <li> Independência: Observações são independentes umas das outras</li>\n",
    "    <li> Homocedasticidade: uma sequência de variáveis aleatórias é homocedástica se todas as suas variáveis aleatórias tiverem a mesma variância finita.\n",
    "    <li> Normalidade: Para qualquer valor fixo de X, Y é normalmente distribuído</li>\n",
    "</ol>\n",
    "\n",
    "Vamos criar um modelo.\n",
    "Primeiro iremos olhar apenas para os dados da companhia aerea Alaska Airline(AA). Também removeremos os valores NA de CarrierDelay(Atrasos causados pela companhia), já que usaremos essa variável depois."
   ]
  },
  {
   "cell_type": "code",
   "execution_count": 4,
   "id": "a8511d40-9120-4a15-8bd4-5aed68bb7176",
   "metadata": {},
   "outputs": [
    {
     "data": {
      "text/html": [
       "<table>\n",
       "<caption>A tibble: 6 × 21</caption>\n",
       "<thead>\n",
       "\t<tr><th scope=col>Month</th><th scope=col>DayOfWeek</th><th scope=col>FlightDate</th><th scope=col>Reporting_Airline</th><th scope=col>Origin</th><th scope=col>Dest</th><th scope=col>CRSDepTime</th><th scope=col>CRSArrTime</th><th scope=col>DepTime</th><th scope=col>ArrTime</th><th scope=col>⋯</th><th scope=col>ArrDelayMinutes</th><th scope=col>CarrierDelay</th><th scope=col>WeatherDelay</th><th scope=col>NASDelay</th><th scope=col>SecurityDelay</th><th scope=col>LateAircraftDelay</th><th scope=col>DepDelay</th><th scope=col>DepDelayMinutes</th><th scope=col>DivDistance</th><th scope=col>DivArrDelay</th></tr>\n",
       "\t<tr><th scope=col>&lt;dbl&gt;</th><th scope=col>&lt;dbl&gt;</th><th scope=col>&lt;date&gt;</th><th scope=col>&lt;chr&gt;</th><th scope=col>&lt;chr&gt;</th><th scope=col>&lt;chr&gt;</th><th scope=col>&lt;chr&gt;</th><th scope=col>&lt;chr&gt;</th><th scope=col>&lt;chr&gt;</th><th scope=col>&lt;chr&gt;</th><th scope=col>⋯</th><th scope=col>&lt;dbl&gt;</th><th scope=col>&lt;dbl&gt;</th><th scope=col>&lt;dbl&gt;</th><th scope=col>&lt;dbl&gt;</th><th scope=col>&lt;dbl&gt;</th><th scope=col>&lt;dbl&gt;</th><th scope=col>&lt;dbl&gt;</th><th scope=col>&lt;dbl&gt;</th><th scope=col>&lt;dbl&gt;</th><th scope=col>&lt;dbl&gt;</th></tr>\n",
       "</thead>\n",
       "<tbody>\n",
       "\t<tr><td> 6</td><td>4</td><td>2006-06-01</td><td>AA</td><td>LAX</td><td>JFK</td><td>1515</td><td>2332</td><td>1507</td><td>2353</td><td>⋯</td><td>21</td><td>0</td><td>0</td><td>21</td><td>0</td><td> 0</td><td>-8</td><td> 0</td><td>NA</td><td>NA</td></tr>\n",
       "\t<tr><td> 6</td><td>5</td><td>2013-06-28</td><td>AA</td><td>LAX</td><td>JFK</td><td>1200</td><td>2045</td><td>1328</td><td>2220</td><td>⋯</td><td>95</td><td>5</td><td>0</td><td> 7</td><td>0</td><td>83</td><td>88</td><td>88</td><td>NA</td><td>NA</td></tr>\n",
       "\t<tr><td>10</td><td>3</td><td>2005-10-12</td><td>AA</td><td>LAX</td><td>JFK</td><td>0930</td><td>1755</td><td>0958</td><td>1823</td><td>⋯</td><td>28</td><td>0</td><td>0</td><td>28</td><td>0</td><td> 0</td><td>28</td><td>28</td><td>NA</td><td>NA</td></tr>\n",
       "\t<tr><td> 4</td><td>6</td><td>2011-04-23</td><td>AA</td><td>LAX</td><td>JFK</td><td>0925</td><td>1800</td><td>1040</td><td>1850</td><td>⋯</td><td>50</td><td>0</td><td>0</td><td>50</td><td>0</td><td> 0</td><td>75</td><td>75</td><td>NA</td><td>NA</td></tr>\n",
       "\t<tr><td> 8</td><td>7</td><td>2011-08-14</td><td>AA</td><td>LAX</td><td>JFK</td><td>1100</td><td>1945</td><td>1200</td><td>2042</td><td>⋯</td><td>57</td><td>0</td><td>0</td><td>57</td><td>0</td><td> 0</td><td>60</td><td>60</td><td>NA</td><td>NA</td></tr>\n",
       "\t<tr><td> 2</td><td>5</td><td>2004-02-06</td><td>AA</td><td>LAX</td><td>JFK</td><td>1500</td><td>2306</td><td>1607</td><td>2348</td><td>⋯</td><td>42</td><td>0</td><td>0</td><td> 0</td><td>0</td><td>42</td><td>67</td><td>67</td><td>NA</td><td>NA</td></tr>\n",
       "</tbody>\n",
       "</table>\n"
      ],
      "text/latex": [
       "A tibble: 6 × 21\n",
       "\\begin{tabular}{lllllllllllllllllllll}\n",
       " Month & DayOfWeek & FlightDate & Reporting\\_Airline & Origin & Dest & CRSDepTime & CRSArrTime & DepTime & ArrTime & ⋯ & ArrDelayMinutes & CarrierDelay & WeatherDelay & NASDelay & SecurityDelay & LateAircraftDelay & DepDelay & DepDelayMinutes & DivDistance & DivArrDelay\\\\\n",
       " <dbl> & <dbl> & <date> & <chr> & <chr> & <chr> & <chr> & <chr> & <chr> & <chr> & ⋯ & <dbl> & <dbl> & <dbl> & <dbl> & <dbl> & <dbl> & <dbl> & <dbl> & <dbl> & <dbl>\\\\\n",
       "\\hline\n",
       "\t  6 & 4 & 2006-06-01 & AA & LAX & JFK & 1515 & 2332 & 1507 & 2353 & ⋯ & 21 & 0 & 0 & 21 & 0 &  0 & -8 &  0 & NA & NA\\\\\n",
       "\t  6 & 5 & 2013-06-28 & AA & LAX & JFK & 1200 & 2045 & 1328 & 2220 & ⋯ & 95 & 5 & 0 &  7 & 0 & 83 & 88 & 88 & NA & NA\\\\\n",
       "\t 10 & 3 & 2005-10-12 & AA & LAX & JFK & 0930 & 1755 & 0958 & 1823 & ⋯ & 28 & 0 & 0 & 28 & 0 &  0 & 28 & 28 & NA & NA\\\\\n",
       "\t  4 & 6 & 2011-04-23 & AA & LAX & JFK & 0925 & 1800 & 1040 & 1850 & ⋯ & 50 & 0 & 0 & 50 & 0 &  0 & 75 & 75 & NA & NA\\\\\n",
       "\t  8 & 7 & 2011-08-14 & AA & LAX & JFK & 1100 & 1945 & 1200 & 2042 & ⋯ & 57 & 0 & 0 & 57 & 0 &  0 & 60 & 60 & NA & NA\\\\\n",
       "\t  2 & 5 & 2004-02-06 & AA & LAX & JFK & 1500 & 2306 & 1607 & 2348 & ⋯ & 42 & 0 & 0 &  0 & 0 & 42 & 67 & 67 & NA & NA\\\\\n",
       "\\end{tabular}\n"
      ],
      "text/markdown": [
       "\n",
       "A tibble: 6 × 21\n",
       "\n",
       "| Month &lt;dbl&gt; | DayOfWeek &lt;dbl&gt; | FlightDate &lt;date&gt; | Reporting_Airline &lt;chr&gt; | Origin &lt;chr&gt; | Dest &lt;chr&gt; | CRSDepTime &lt;chr&gt; | CRSArrTime &lt;chr&gt; | DepTime &lt;chr&gt; | ArrTime &lt;chr&gt; | ⋯ ⋯ | ArrDelayMinutes &lt;dbl&gt; | CarrierDelay &lt;dbl&gt; | WeatherDelay &lt;dbl&gt; | NASDelay &lt;dbl&gt; | SecurityDelay &lt;dbl&gt; | LateAircraftDelay &lt;dbl&gt; | DepDelay &lt;dbl&gt; | DepDelayMinutes &lt;dbl&gt; | DivDistance &lt;dbl&gt; | DivArrDelay &lt;dbl&gt; |\n",
       "|---|---|---|---|---|---|---|---|---|---|---|---|---|---|---|---|---|---|---|---|---|\n",
       "|  6 | 4 | 2006-06-01 | AA | LAX | JFK | 1515 | 2332 | 1507 | 2353 | ⋯ | 21 | 0 | 0 | 21 | 0 |  0 | -8 |  0 | NA | NA |\n",
       "|  6 | 5 | 2013-06-28 | AA | LAX | JFK | 1200 | 2045 | 1328 | 2220 | ⋯ | 95 | 5 | 0 |  7 | 0 | 83 | 88 | 88 | NA | NA |\n",
       "| 10 | 3 | 2005-10-12 | AA | LAX | JFK | 0930 | 1755 | 0958 | 1823 | ⋯ | 28 | 0 | 0 | 28 | 0 |  0 | 28 | 28 | NA | NA |\n",
       "|  4 | 6 | 2011-04-23 | AA | LAX | JFK | 0925 | 1800 | 1040 | 1850 | ⋯ | 50 | 0 | 0 | 50 | 0 |  0 | 75 | 75 | NA | NA |\n",
       "|  8 | 7 | 2011-08-14 | AA | LAX | JFK | 1100 | 1945 | 1200 | 2042 | ⋯ | 57 | 0 | 0 | 57 | 0 |  0 | 60 | 60 | NA | NA |\n",
       "|  2 | 5 | 2004-02-06 | AA | LAX | JFK | 1500 | 2306 | 1607 | 2348 | ⋯ | 42 | 0 | 0 |  0 | 0 | 42 | 67 | 67 | NA | NA |\n",
       "\n"
      ],
      "text/plain": [
       "  Month DayOfWeek FlightDate Reporting_Airline Origin Dest CRSDepTime\n",
       "1  6    4         2006-06-01 AA                LAX    JFK  1515      \n",
       "2  6    5         2013-06-28 AA                LAX    JFK  1200      \n",
       "3 10    3         2005-10-12 AA                LAX    JFK  0930      \n",
       "4  4    6         2011-04-23 AA                LAX    JFK  0925      \n",
       "5  8    7         2011-08-14 AA                LAX    JFK  1100      \n",
       "6  2    5         2004-02-06 AA                LAX    JFK  1500      \n",
       "  CRSArrTime DepTime ArrTime ⋯ ArrDelayMinutes CarrierDelay WeatherDelay\n",
       "1 2332       1507    2353    ⋯ 21              0            0           \n",
       "2 2045       1328    2220    ⋯ 95              5            0           \n",
       "3 1755       0958    1823    ⋯ 28              0            0           \n",
       "4 1800       1040    1850    ⋯ 50              0            0           \n",
       "5 1945       1200    2042    ⋯ 57              0            0           \n",
       "6 2306       1607    2348    ⋯ 42              0            0           \n",
       "  NASDelay SecurityDelay LateAircraftDelay DepDelay DepDelayMinutes DivDistance\n",
       "1 21       0              0                -8        0              NA         \n",
       "2  7       0             83                88       88              NA         \n",
       "3 28       0              0                28       28              NA         \n",
       "4 50       0              0                75       75              NA         \n",
       "5 57       0              0                60       60              NA         \n",
       "6  0       0             42                67       67              NA         \n",
       "  DivArrDelay\n",
       "1 NA         \n",
       "2 NA         \n",
       "3 NA         \n",
       "4 NA         \n",
       "5 NA         \n",
       "6 NA         "
      ]
     },
     "metadata": {},
     "output_type": "display_data"
    }
   ],
   "source": [
    "# Definimos um dataset com apenas AA de companhia aerea\n",
    "\n",
    "alaska <- companhias_aereas %>%\n",
    "  filter(CarrierDelay != \"NA\", Reporting_Airline == \"AA\")\n",
    "\n",
    "# Mostra os primeiros 6 valores do meu dataset\n",
    "head(alaska)"
   ]
  },
  {
   "cell_type": "markdown",
   "id": "951ffba2-750f-4ce4-a9fa-49a38a4cfccd",
   "metadata": {},
   "source": [
    "Nesse exemplo, queremos saber como atrasos na partida (DepDelayMinutes) pode nos ajudar a prever atrasos na chegada (ArrDelayMinutes). Nesse caso, DepDelayMinutes é a variável independente X e ArrDelayMinutes é a nossa variável dependente Y. Usamos a função `lm()` para criar um modelo linear."
   ]
  },
  {
   "cell_type": "code",
   "execution_count": 17,
   "id": "e8389af8-1e2c-4f25-99ba-4b8f6369068a",
   "metadata": {},
   "outputs": [
    {
     "data": {
      "text/plain": [
       "\n",
       "Call:\n",
       "lm(formula = ArrDelayMinutes ~ DepDelayMinutes, data = alaska)\n",
       "\n",
       "Residuals:\n",
       "    Min      1Q  Median      3Q     Max \n",
       "-37.234 -12.716  -1.354   7.747  93.646 \n",
       "\n",
       "Coefficients:\n",
       "                Estimate Std. Error t value Pr(>|t|)    \n",
       "(Intercept)      17.3544     2.5084   6.919  2.9e-10 ***\n",
       "DepDelayMinutes   0.7523     0.0399  18.855  < 2e-16 ***\n",
       "---\n",
       "Signif. codes:  0 ‘***’ 0.001 ‘**’ 0.01 ‘*’ 0.05 ‘.’ 0.1 ‘ ’ 1\n",
       "\n",
       "Residual standard error: 20.03 on 113 degrees of freedom\n",
       "Multiple R-squared:  0.7588,\tAdjusted R-squared:  0.7567 \n",
       "F-statistic: 355.5 on 1 and 113 DF,  p-value: < 2.2e-16\n"
      ]
     },
     "metadata": {},
     "output_type": "display_data"
    }
   ],
   "source": [
    "# Criamos o modelo\n",
    "modelo_linear <- lm(ArrDelayMinutes ~ DepDelayMinutes, data = alaska)\n",
    "\n",
    "# Resumimos o modelo\n",
    "# b0(Intercept) = 17.35\n",
    "# b1 = 0.7523\n",
    "summary(modelo_linear)"
   ]
  },
  {
   "cell_type": "code",
   "execution_count": 13,
   "id": "3c8990e8-2cbb-4a62-9af1-49ab5792dfec",
   "metadata": {},
   "outputs": [
    {
     "data": {
      "text/html": [
       "<style>\n",
       ".dl-inline {width: auto; margin:0; padding: 0}\n",
       ".dl-inline>dt, .dl-inline>dd {float: none; width: auto; display: inline-block}\n",
       ".dl-inline>dt::after {content: \":\\0020\"; padding-right: .5ex}\n",
       ".dl-inline>dt:not(:first-of-type) {padding-left: .5ex}\n",
       "</style><dl class=dl-inline><dt>(Intercept)</dt><dd>17.3544286298325</dd><dt>DepDelayMinutes</dt><dd>0.752276923051433</dd></dl>\n"
      ],
      "text/latex": [
       "\\begin{description*}\n",
       "\\item[(Intercept)] 17.3544286298325\n",
       "\\item[DepDelayMinutes] 0.752276923051433\n",
       "\\end{description*}\n"
      ],
      "text/markdown": [
       "(Intercept)\n",
       ":   17.3544286298325DepDelayMinutes\n",
       ":   0.752276923051433\n",
       "\n"
      ],
      "text/plain": [
       "    (Intercept) DepDelayMinutes \n",
       "     17.3544286       0.7522769 "
      ]
     },
     "metadata": {},
     "output_type": "display_data"
    }
   ],
   "source": [
    "# Podemos verificar os coeficientes b0 e b1 usando isso:\n",
    "modelo_linear$coefficients"
   ]
  },
  {
   "cell_type": "markdown",
   "id": "a2dc3d8a-31aa-4118-b007-6b6250f86af9",
   "metadata": {},
   "source": [
    "A equação que obtemos para esse modelo é:\n",
    "\n",
    "\n",
    "$$ ArrDelayMinutes = 17.35 + 0.7523 * DepDelayMinutes $$"
   ]
  },
  {
   "cell_type": "code",
   "execution_count": 14,
   "id": "de3814fc-9f81-4e24-8fd7-0053c41c791a",
   "metadata": {},
   "outputs": [
    {
     "data": {
      "text/html": [
       "<table>\n",
       "<caption>A matrix: 3 × 3 of type dbl</caption>\n",
       "<thead>\n",
       "\t<tr><th></th><th scope=col>fit</th><th scope=col>lwr</th><th scope=col>upr</th></tr>\n",
       "</thead>\n",
       "<tbody>\n",
       "\t<tr><th scope=row>1</th><td>26.38175</td><td>21.98838</td><td>30.77512</td></tr>\n",
       "\t<tr><th scope=row>2</th><td>31.64769</td><td>27.52630</td><td>35.76908</td></tr>\n",
       "\t<tr><th scope=row>3</th><td>35.40907</td><td>31.44593</td><td>39.37222</td></tr>\n",
       "</tbody>\n",
       "</table>\n"
      ],
      "text/latex": [
       "A matrix: 3 × 3 of type dbl\n",
       "\\begin{tabular}{r|lll}\n",
       "  & fit & lwr & upr\\\\\n",
       "\\hline\n",
       "\t1 & 26.38175 & 21.98838 & 30.77512\\\\\n",
       "\t2 & 31.64769 & 27.52630 & 35.76908\\\\\n",
       "\t3 & 35.40907 & 31.44593 & 39.37222\\\\\n",
       "\\end{tabular}\n"
      ],
      "text/markdown": [
       "\n",
       "A matrix: 3 × 3 of type dbl\n",
       "\n",
       "| <!--/--> | fit | lwr | upr |\n",
       "|---|---|---|---|\n",
       "| 1 | 26.38175 | 21.98838 | 30.77512 |\n",
       "| 2 | 31.64769 | 27.52630 | 35.76908 |\n",
       "| 3 | 35.40907 | 31.44593 | 39.37222 |\n",
       "\n"
      ],
      "text/plain": [
       "  fit      lwr      upr     \n",
       "1 26.38175 21.98838 30.77512\n",
       "2 31.64769 27.52630 35.76908\n",
       "3 35.40907 31.44593 39.37222"
      ]
     },
     "metadata": {},
     "output_type": "display_data"
    }
   ],
   "source": [
    "# Criando novos dados\n",
    "novos_atrasos <- data.frame(\n",
    "  DepDelayMinutes = c(12, 19, 24))\n",
    "\n",
    "# Predição\n",
    "pred <- predict(modelo_linear, newdata = novos_atrasos, interval = \"confidence\")\n",
    "pred"
   ]
  },
  {
   "cell_type": "markdown",
   "id": "5f271ff7-083f-48a5-84d7-8f6ccef824ab",
   "metadata": {},
   "source": [
    "A coluna fit no dataset `pred` mostra valores previstos com base nos inseridos. As colunas lwr e upr, mostram as margens de erro para cima e para baixo."
   ]
  },
  {
   "cell_type": "markdown",
   "id": "79224eb3-2edc-40fc-b2ff-69f867e40b2d",
   "metadata": {},
   "source": [
    "### Regressão Linear Múltipla\n",
    "\n",
    "Diferente da Regressão Linear Simples, a múltipla refere-se a várias variáveis independentes para fazer uma predição. Explica a relação entre uma variável (Y) e duas ou mais variáveis (X).\n",
    "\n",
    "**Equação**\n",
    "\n",
    "$$\n",
    "\\hat{Y} = b\\_0 + b\\_1 X\\_1 + b\\_2 X\\_2\n",
    "$$\n",
    "\n",
    "\n",
    "*   $b\\_0$: o valor de Y quando X é 0\n",
    "*   $b\\_1$: coeficiente da variável 1\n",
    "*   $b\\_2$: coeficiente da variável 2\n",
    "\n",
    "Seguindo o exemplo anterior, podemos usar as variáveis independentes DepDelayMinutes(Atraso em minutos da partida) e LateAircraftDelay(Atraso causado por outro avião)"
   ]
  },
  {
   "cell_type": "code",
   "execution_count": 15,
   "id": "81ddc73c-53e6-43f6-8c9b-60a7ed5b05dd",
   "metadata": {},
   "outputs": [
    {
     "data": {
      "text/plain": [
       "\n",
       "Call:\n",
       "lm(formula = ArrDelayMinutes ~ DepDelayMinutes + LateAircraftDelay, \n",
       "    data = alaska)\n",
       "\n",
       "Residuals:\n",
       "    Min      1Q  Median      3Q     Max \n",
       "-37.188 -12.545  -1.317   7.791  93.683 \n",
       "\n",
       "Coefficients:\n",
       "                  Estimate Std. Error t value Pr(>|t|)    \n",
       "(Intercept)       17.31707    2.53786   6.823 4.78e-10 ***\n",
       "DepDelayMinutes    0.75556    0.04822  15.668  < 2e-16 ***\n",
       "LateAircraftDelay -0.01028    0.08407  -0.122    0.903    \n",
       "---\n",
       "Signif. codes:  0 ‘***’ 0.001 ‘**’ 0.01 ‘*’ 0.05 ‘.’ 0.1 ‘ ’ 1\n",
       "\n",
       "Residual standard error: 20.11 on 112 degrees of freedom\n",
       "Multiple R-squared:  0.7588,\tAdjusted R-squared:  0.7545 \n",
       "F-statistic: 176.2 on 2 and 112 DF,  p-value: < 2.2e-16\n"
      ]
     },
     "metadata": {},
     "output_type": "display_data"
    }
   ],
   "source": [
    "regressao_multipla <- lm(ArrDelayMinutes ~ DepDelayMinutes + LateAircraftDelay, data = alaska)\n",
    "\n",
    "summary(regressao_multipla)"
   ]
  },
  {
   "cell_type": "code",
   "execution_count": 16,
   "id": "d3513b5d-ce67-4682-b2c1-868ba91e2db3",
   "metadata": {},
   "outputs": [
    {
     "data": {
      "text/html": [
       "<style>\n",
       ".dl-inline {width: auto; margin:0; padding: 0}\n",
       ".dl-inline>dt, .dl-inline>dd {float: none; width: auto; display: inline-block}\n",
       ".dl-inline>dt::after {content: \":\\0020\"; padding-right: .5ex}\n",
       ".dl-inline>dt:not(:first-of-type) {padding-left: .5ex}\n",
       "</style><dl class=dl-inline><dt>(Intercept)</dt><dd>17.3170664444204</dd><dt>DepDelayMinutes</dt><dd>0.755555427832382</dd><dt>LateAircraftDelay</dt><dd>-0.0102751258959528</dd></dl>\n"
      ],
      "text/latex": [
       "\\begin{description*}\n",
       "\\item[(Intercept)] 17.3170664444204\n",
       "\\item[DepDelayMinutes] 0.755555427832382\n",
       "\\item[LateAircraftDelay] -0.0102751258959528\n",
       "\\end{description*}\n"
      ],
      "text/markdown": [
       "(Intercept)\n",
       ":   17.3170664444204DepDelayMinutes\n",
       ":   0.755555427832382LateAircraftDelay\n",
       ":   -0.0102751258959528\n",
       "\n"
      ],
      "text/plain": [
       "      (Intercept)   DepDelayMinutes LateAircraftDelay \n",
       "      17.31706644        0.75555543       -0.01027513 "
      ]
     },
     "metadata": {},
     "output_type": "display_data"
    }
   ],
   "source": [
    "regressao_multipla$coefficients"
   ]
  },
  {
   "cell_type": "markdown",
   "id": "724e237b-9b45-4286-a9a1-18326a178233",
   "metadata": {},
   "source": [
    "A equação que obtemos para esse modelo é:\n",
    "\n",
    "\n",
    "$$ ArrDelayMinutes = 17.32 + 0.7556 * DepDelayMinutes - 0.0103 *  LateAircraftDelay $$\n",
    "\n",
    "Podemos agora fazer previsões com novos valores"
   ]
  },
  {
   "cell_type": "code",
   "execution_count": 18,
   "id": "721f50a4-4387-4ea4-866f-7a7f9bd1fe2b",
   "metadata": {},
   "outputs": [],
   "source": [
    "DepDelayMinutes <- c(10, 20, 30)\n",
    "LateAircraftDelay <- c(20, 60, 30)\n",
    "\n",
    "novos_dados <- data.frame(DepDelayMinutes, LateAircraftDelay)"
   ]
  },
  {
   "cell_type": "code",
   "execution_count": 21,
   "id": "d75888a3-0884-4a4a-aeeb-662a8d34ce82",
   "metadata": {},
   "outputs": [
    {
     "data": {
      "text/html": [
       "<table>\n",
       "<caption>A matrix: 3 × 3 of type dbl</caption>\n",
       "<thead>\n",
       "\t<tr><th></th><th scope=col>fit</th><th scope=col>lwr</th><th scope=col>upr</th></tr>\n",
       "</thead>\n",
       "<tbody>\n",
       "\t<tr><th scope=row>1</th><td>24.66712</td><td>19.02312</td><td>30.31112</td></tr>\n",
       "\t<tr><th scope=row>2</th><td>31.81167</td><td>21.42849</td><td>42.19485</td></tr>\n",
       "\t<tr><th scope=row>3</th><td>39.67548</td><td>34.12732</td><td>45.22364</td></tr>\n",
       "</tbody>\n",
       "</table>\n"
      ],
      "text/latex": [
       "A matrix: 3 × 3 of type dbl\n",
       "\\begin{tabular}{r|lll}\n",
       "  & fit & lwr & upr\\\\\n",
       "\\hline\n",
       "\t1 & 24.66712 & 19.02312 & 30.31112\\\\\n",
       "\t2 & 31.81167 & 21.42849 & 42.19485\\\\\n",
       "\t3 & 39.67548 & 34.12732 & 45.22364\\\\\n",
       "\\end{tabular}\n"
      ],
      "text/markdown": [
       "\n",
       "A matrix: 3 × 3 of type dbl\n",
       "\n",
       "| <!--/--> | fit | lwr | upr |\n",
       "|---|---|---|---|\n",
       "| 1 | 24.66712 | 19.02312 | 30.31112 |\n",
       "| 2 | 31.81167 | 21.42849 | 42.19485 |\n",
       "| 3 | 39.67548 | 34.12732 | 45.22364 |\n",
       "\n"
      ],
      "text/plain": [
       "  fit      lwr      upr     \n",
       "1 24.66712 19.02312 30.31112\n",
       "2 31.81167 21.42849 42.19485\n",
       "3 39.67548 34.12732 45.22364"
      ]
     },
     "metadata": {},
     "output_type": "display_data"
    }
   ],
   "source": [
    "pred <- predict(regressao_multipla, \n",
    "        newdata = novos_dados, \n",
    "        interval = \"confidence\")  \n",
    "pred\n",
    "\n",
    "# Quando DepDelayMinutes é 10 minutos e LateAircraftDelay é 20 minutos, ArrDelayMinutes é 49.98902 minutos"
   ]
  },
  {
   "cell_type": "code",
   "execution_count": null,
   "id": "7dd08a05-f51d-44eb-8bf3-fc7887f64f56",
   "metadata": {},
   "outputs": [],
   "source": []
  }
 ],
 "metadata": {
  "kernelspec": {
   "display_name": "R",
   "language": "R",
   "name": "conda-env-r-r"
  },
  "language_info": {
   "codemirror_mode": "r",
   "file_extension": ".r",
   "mimetype": "text/x-r-source",
   "name": "R",
   "pygments_lexer": "r",
   "version": "3.5.1"
  }
 },
 "nbformat": 4,
 "nbformat_minor": 5
}
