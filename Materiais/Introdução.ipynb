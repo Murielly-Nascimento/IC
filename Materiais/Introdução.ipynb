{
 "cells": [
  {
   "cell_type": "markdown",
   "id": "6afc6288-c127-474e-aeb4-56b034d10917",
   "metadata": {},
   "source": [
    "<h2>Introdução à Ciência de Dados</h2>\n",
    "\n",
    "Usaremos para nossos estudos futuros a linguagem R. Portanto, primeiramente iremos carregar a biblioteca Tidyverse. Esse ambiente de programação já vem pré-configurado de modo que você não precisa baixá-la, caso resolva executar os seguintes exemplos localmente faça o download. Algumas funções básicas que serão usadas ao longo deste material são:\n",
    "\n",
    "-   `mean()` Média\n",
    "-   `median()` Mediana\n",
    "-   `var()` Variância\n",
    "-   `sd()` Desvio Padrão"
   ]
  },
  {
   "cell_type": "markdown",
   "id": "4bc572da-8c26-4e74-b7a2-95838d55cfa6",
   "metadata": {},
   "source": [
    "### Sumário:\n",
    "\n",
    "-   [1. Problema](#cell1)\n",
    "-   [2. Lendo Dados](#cell2)\n",
    "-   [3. Entendendo Dados](#cell3)\n",
    "-   [4. Dplyr para manipulação e transformação de dados](#cell4)"
   ]
  },
  {
   "cell_type": "code",
   "execution_count": null,
   "id": "fe4c7c45-ef18-4e50-a5ec-15e3ba4aaa02",
   "metadata": {},
   "outputs": [],
   "source": [
    "# Se estiver executando localmente apague o '#'\n",
    "\n",
    "# install.packages(\"tidyverse\")"
   ]
  },
  {
   "cell_type": "code",
   "execution_count": null,
   "id": "882ef8fd-b0ed-45ab-9703-9b5158863426",
   "metadata": {},
   "outputs": [],
   "source": [
    "# Carrega tidyverse\n",
    "\n",
    "library(tidyverse)"
   ]
  },
  {
   "cell_type": "markdown",
   "id": "034012fd-3fd2-4923-90f9-6f89416368f0",
   "metadata": {},
   "source": [
    "Os pacotes que vêm nessa biblioteca e nos auxiliarão na análise de dados são:\n",
    "\n",
    "-   tidyr: ajuda a criar dados organizados\n",
    "-   dplyr: manipulação e transformação de dados\n",
    "-   readr: faz a leitura de arquivos\n",
    "-   purrr: programação funcional e suas ferramentas\n",
    "-   ggplot2: vizualização de dados e gráficos."
   ]
  },
  {
   "cell_type": "markdown",
   "id": "0e959e30-8fea-4ba9-9ae1-606d91293813",
   "metadata": {},
   "source": [
    "<a id=\"cell1\"></a>\n",
    "\n",
    "<h3>Problema</h3>\n",
    "\n",
    "Antes de colocar a *mão na massa*, vamos primeiro analisar um problema. Digamos que você trabalha para uma empresa nos EUA e irá fazer uma viagem, a trabalho, de Los Angeles a Nova York. É necessário chegar pontualmente ao seu compromisso. Portanto, precisamos saber quais fatores levam ao atraso de um voo, fazer uma estimativa deles e descobrir qual linha aérea é a melhor.\n",
    "\n",
    "A empresa IBM, mantém em seu site uma série de conjunto de dados. Nesse caso usaremos o <a href=\"https://developer.ibm.com/exchanges/data/all/airline/\">Airline Dataset</a> que contém dados de mais de 200 milhões de voos domésticos feitos em território americano, coletados pelo Departamento de Estatísticas de Transporte dos Estados Unidos. Por questões didáticas usaremos a amostra desses dados e não o arquivo inteiro.\n",
    "\n",
    "<ul>\n",
    "    <li>data source: <a href=\"https://dax-cdn.cdn.appdomain.cloud/dax-airline/1.0.1/lax_to_jfk.tar.gz\" target=\"_blank\">https://dax-cdn.cdn.appdomain.cloud/dax-airline/1.0.1/lax_to_jfk.tar.gz</a></li>\n",
    "    <li>data type: csv</li>\n",
    "</ul>"
   ]
  },
  {
   "cell_type": "markdown",
   "id": "6e2a6a7e-582c-4eb2-9de0-ad8b1a651109",
   "metadata": {},
   "source": [
    "<a id=\"cell2\"></a>\n",
    "\n",
    "<h3>Lendo Dados</h3>\n",
    "\n",
    "Usamos a função read_csv() para ler arquivos csv, lembrando que ela faz parte do pacote readr. Os seus parâmetros são:\n",
    "\n",
    "-   `file` (primeiro parâmetro): endereço URL ou caminho no seu computador onde o arquivo se encontra\n",
    "-   `col_names`: por padrão temos, `col_names = TRUE`. Significa que a primeira linha é o cabeçalho do conjunto de dados.\n",
    "-   `col_types`: especificamos o tipo de dados em cada coluna. Por padrão a linguagem R *advinha* eles para você. Caso queira, especifique manualmente\n",
    "    -   Você pode usar os seguinte tipos: `col_logical()`, `col_integer()`, `col_number()`, `col_character()`.\n",
    "\n",
    "A variável `companhias_aereas` guardará os dados."
   ]
  },
  {
   "cell_type": "code",
   "execution_count": null,
   "id": "5b28ee22-be71-4adc-a859-b0e231d73536",
   "metadata": {},
   "outputs": [],
   "source": [
    "# url onde os dados estão localizados\n",
    "# url <- \"https://dax-cdn.cdn.appdomain.cloud/dax-airline/1.0.1/lax_to_jfk.tar.gz\"\n",
    "\n",
    "# download do arquivo\n",
    "#download.file(url, destfile = \"lax_to_jfk.tar.gz\")\n",
    "\n",
    "# extrair arquivo \n",
    "#untar(\"lax_to_jfk.tar.gz\", tar = \"internal\")\n",
    "\n",
    "# Lemos o arquivo csv => read_csv (Se for de um formato diferente use a função apropriada, verifique a documentação de readr)\n",
    "# companhias_aereas <- read_csv(\"lax_to_jfk/lax_to_jfk.csv\",\n",
    "#                     col_types = cols(\n",
    "#                      'DivDistance' = col_number(),\n",
    "#                      'DivArrDelay' = col_number()\n",
    "#                      ))\n",
    "\n",
    "# O arquivo já está instalado, portanto leremos direto do diretório dados\n",
    "companhias_aereas <- read_csv(\"dados/losAngeles_para_novaYork.csv\",\n",
    "                     col_types = cols(\n",
    "                      'DivDistance' = col_number(),\n",
    "                      'DivArrDelay' = col_number()\n",
    "                      ))"
   ]
  },
  {
   "cell_type": "markdown",
   "id": "42bd75f3-373e-4c5f-b0c1-cad00e325b08",
   "metadata": {},
   "source": [
    "Uma vez lido o conjunto de dados, vamos fazer algumas análises iniciais sobre ele.\n",
    "\n",
    "-   `head(dataframe, n)`: Retorna as primeiras 6 linhas do conjunto de dados se `n` não for especificado\n",
    "-   `tail(dataframe, n)`: Retorna as últimas 6 linhas do conjunto de dados se `n` não for especificado\n",
    "-   `colnames(dataframe)`: Retorna o nome das colunas\n",
    "-   `dim(dataframe)`: Retorna as dimensões do conjunto de dados."
   ]
  },
  {
   "cell_type": "code",
   "execution_count": null,
   "id": "98dc5122-2e2e-4ed5-8140-20e62e85802e",
   "metadata": {},
   "outputs": [],
   "source": [
    "# mostra as 3 primeiras linhas\n",
    "head(companhias_aereas, 3)"
   ]
  },
  {
   "cell_type": "code",
   "execution_count": null,
   "id": "988b8f1c-f063-4599-b3b8-e9c746eb9b86",
   "metadata": {},
   "outputs": [],
   "source": [
    "# mostra as 3 últimas linhas\n",
    "tail(companhias_aereas, 3)"
   ]
  },
  {
   "cell_type": "markdown",
   "id": "fa359a9a-a408-41cb-8872-7a474cd7594d",
   "metadata": {},
   "source": [
    "<a id=\"cell3\"></a>\n",
    "\n",
    "<h3>Entendendo Dados</h3>\n",
    "\n",
    "Como mencionado anteriormente, estamos interessados em voos feitos de Los Angeles para Nova York, representados respectivamente por LAX e JFK no nosso dataset (usaremos o termo em inglês dataset para nos referimos a conjunto de dados). A sigla JFK faz referência ao Aeroporto Internacional John F. Kennedy. Também queremos focar em informações referentes a possíveis atrasos, as colunas ArrDelay(Atraso na chegada), SecurityDelay (Atraso devido a medidas de segurança), CarrierDelay(atrasos que são causados pela companhia aérea como limpeza do avião), e outras são objetos da nossa análise."
   ]
  },
  {
   "cell_type": "code",
   "execution_count": null,
   "id": "f2b013af-479a-481c-bd5a-dc9aeaea42e1",
   "metadata": {},
   "outputs": [],
   "source": [
    "# A amostra que estamos usando já vem com os voos LAX para JFK separados\n",
    "# e com as colunas que precisamos para análise\n",
    "# As dimensões e nomes das colunas do dataset são:\n",
    "\n",
    "dim(companhias_aereas)\n",
    "colnames(companhias_aereas)"
   ]
  },
  {
   "cell_type": "code",
   "execution_count": null,
   "id": "db687481-ab69-4a0f-bde5-87f32b2af0b8",
   "metadata": {},
   "outputs": [],
   "source": [
    "# Salvamos o dataset no diretório dados\n",
    "# Não faremos isso pois já temos o dataset salvo na pasta dados.\n",
    "# write_csv(companhias_aereas, \"dados/losAngeles_para_novaYork.csv\")"
   ]
  },
  {
   "cell_type": "code",
   "execution_count": null,
   "id": "225ef88b-b8cb-4171-8101-0f7e2b5d5948",
   "metadata": {},
   "outputs": [],
   "source": [
    "#Descobrir o tipo de dados no dataset\n",
    "\n",
    "sapply(companhias_aereas, typeof) "
   ]
  },
  {
   "cell_type": "markdown",
   "id": "45dd6daa-128f-4c21-9d6b-67845f998989",
   "metadata": {},
   "source": [
    "<a id=\"cell4\"></a>\n",
    "\n",
    "<h3> Dplyr para manipulação e transformação de dados </h3>\n",
    "\n",
    "Algumas funções do pacote dplyr:\n",
    "\n",
    "-   `select()` Seleciona\n",
    "-   `filter()` Filtra\n",
    "-   `summarize()` Resume\n",
    "-   `arrange()` Organiza linhas de dados por valores das colunas\n",
    "-   `mutate()` Adiciona novas variáveis\n",
    "-   `group_by()` Agrupa dados em um novo dataset"
   ]
  },
  {
   "cell_type": "code",
   "execution_count": null,
   "id": "cfae3217-210a-4fe7-a34a-c524ce971110",
   "metadata": {},
   "outputs": [],
   "source": [
    "# A média de atrasos na chegada de cada companhia aéra\n",
    "# Os valores na coluna ArrDelay funcionam da seguinte maneira:\n",
    "# Se o valor é positivo houve atraso\n",
    "# Se o valor é negativo ela chegou adiantada ou cedo.\n",
    "# O operador '>' pode ser lido como então\n",
    "\n",
    "companhias_aereas %>%\n",
    "  group_by(Reporting_Airline) %>%\n",
    "  summarize(atraso_Companhia = mean(ArrDelay, na.rm = TRUE))\n",
    "\n",
    "# Podemos observar que a empresa com menor tempo médio de atraso na chegada é a AS"
   ]
  },
  {
   "cell_type": "code",
   "execution_count": null,
   "id": "49553cae-af8d-4773-84ad-846511a82a2f",
   "metadata": {},
   "outputs": [],
   "source": [
    "# Um resumo do data_set\n",
    "glimpse(companhias_aereas)"
   ]
  },
  {
   "cell_type": "code",
   "execution_count": null,
   "id": "c432de25-213c-472a-94e8-798f6db2495a",
   "metadata": {},
   "outputs": [],
   "source": []
  },
  {
   "cell_type": "code",
   "execution_count": null,
   "id": "a8d81419-2ffd-4300-9e39-4b3dc14452cd",
   "metadata": {},
   "outputs": [],
   "source": []
  }
 ],
 "metadata": {
  "kernelspec": {
   "display_name": "R",
   "language": "R",
   "name": "conda-env-r-r"
  },
  "language_info": {
   "codemirror_mode": "r",
   "file_extension": ".r",
   "mimetype": "text/x-r-source",
   "name": "R",
   "pygments_lexer": "r",
   "version": "3.5.1"
  }
 },
 "nbformat": 4,
 "nbformat_minor": 5
}
