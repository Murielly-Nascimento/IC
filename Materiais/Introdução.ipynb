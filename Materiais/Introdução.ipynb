{
 "cells": [
  {
   "cell_type": "markdown",
   "id": "6afc6288-c127-474e-aeb4-56b034d10917",
   "metadata": {},
   "source": [
    "<h2>Introdução à Ciência de Dados</h2>\n",
    "\n",
    "Usaremos para nossos estudos futuros a linguagem R. Portanto, primeiramente iremos carregar a biblioteca Tidyverse. Esse ambiente de programação já vem pré-configurado de modo que você não precisa baixá-la, caso resolva executar os seguintes exemplos localmente faça o download. Algumas funções básicas que serão usadas ao longo deste material são:\n",
    "\n",
    "-   `mean()` Média\n",
    "-   `median()` Mediana\n",
    "-   `var()` Variância\n",
    "-   `sd()` Desvio Padrão"
   ]
  },
  {
   "cell_type": "markdown",
   "id": "4bc572da-8c26-4e74-b7a2-95838d55cfa6",
   "metadata": {},
   "source": [
    "### Sumário:\n",
    "\n",
    "-   [1. Problema](#cell1)\n",
    "-   [2. Lendo Dados](#cell2)\n",
    "-   [3. Entendendo Dados](#cell3)\n",
    "-   [4. Dplyr para manipulação e transformação de dados](#cell4)"
   ]
  },
  {
   "cell_type": "code",
   "execution_count": 2,
   "id": "fe4c7c45-ef18-4e50-a5ec-15e3ba4aaa02",
   "metadata": {},
   "outputs": [],
   "source": [
    "# Se estiver executando localmente apague o '#'\n",
    "\n",
    "# install.packages(\"tidyverse\")"
   ]
  },
  {
   "cell_type": "code",
   "execution_count": 3,
   "id": "882ef8fd-b0ed-45ab-9703-9b5158863426",
   "metadata": {},
   "outputs": [
    {
     "name": "stderr",
     "output_type": "stream",
     "text": [
      "── Attaching packages ─────────────────────────────────────── tidyverse 1.3.0 ──\n",
      "✔ ggplot2 3.3.0     ✔ purrr   0.3.4\n",
      "✔ tibble  3.0.1     ✔ dplyr   0.8.5\n",
      "✔ tidyr   1.0.2     ✔ stringr 1.4.0\n",
      "✔ readr   1.3.1     ✔ forcats 0.5.0\n",
      "── Conflicts ────────────────────────────────────────── tidyverse_conflicts() ──\n",
      "✖ dplyr::filter() masks stats::filter()\n",
      "✖ dplyr::lag()    masks stats::lag()\n"
     ]
    }
   ],
   "source": [
    "# Carrega tidyverse\n",
    "\n",
    "library(tidyverse)"
   ]
  },
  {
   "cell_type": "markdown",
   "id": "034012fd-3fd2-4923-90f9-6f89416368f0",
   "metadata": {},
   "source": [
    "Os pacotes que vêm nessa biblioteca e nos auxiliarão na análise de dados são:\n",
    "\n",
    "-   tidyr: ajuda a criar dados organizados\n",
    "-   dplyr: manipulação e transformação de dados\n",
    "-   readr: faz a leitura de arquivos\n",
    "-   purrr: programação funcional e suas ferramentas\n",
    "-   ggplot2: vizualização de dados e gráficos."
   ]
  },
  {
   "cell_type": "markdown",
   "id": "0e959e30-8fea-4ba9-9ae1-606d91293813",
   "metadata": {},
   "source": [
    "<a id=\"cell1\"></a>\n",
    "\n",
    "<h3>Problema</h3>\n",
    "\n",
    "Antes de colocar a *mão na massa*, vamos primeiro analisar um problema. Digamos que você trabalha para uma empresa nos EUA e irá fazer uma viagem, a trabalho, de Los Angeles a Nova York. É necessário chegar pontualmente ao seu compromisso. Portanto, precisamos saber quais fatores levam ao atraso de um voo, fazer uma estimativa deles e descobrir qual linha aérea é a melhor.\n",
    "\n",
    "A empresa IBM, mantém em seu site uma série de conjunto de dados. Nesse caso usaremos o <a href=\"https://developer.ibm.com/exchanges/data/all/airline/\">Airline Dataset</a> que contém dados de mais de 200 milhões de voos domésticos feitos em território americano, coletados pelo Departamento de Estatísticas de Transporte dos Estados Unidos. Por questões didáticas usaremos a amostra desses dados e não o arquivo inteiro.\n",
    "\n",
    "<ul>\n",
    "    <li>data source: <a href=\"https://dax-cdn.cdn.appdomain.cloud/dax-airline/1.0.1/lax_to_jfk.tar.gz\" target=\"_blank\">https://dax-cdn.cdn.appdomain.cloud/dax-airline/1.0.1/lax_to_jfk.tar.gz</a></li>\n",
    "    <li>data type: csv</li>\n",
    "</ul>"
   ]
  },
  {
   "cell_type": "markdown",
   "id": "6e2a6a7e-582c-4eb2-9de0-ad8b1a651109",
   "metadata": {},
   "source": [
    "<a id=\"cell2\"></a>\n",
    "\n",
    "<h3>Lendo Dados</h3>\n",
    "\n",
    "Usamos a função read_csv() para ler arquivos csv, lembrando que ela faz parte do pacote readr. Os seus parâmetros são:\n",
    "\n",
    "-   `file` (primeiro parâmetro): endereço URL ou caminho no seu computador onde o arquivo se encontra\n",
    "-   `col_names`: por padrão temos, `col_names = TRUE`. Significa que a primeira linha é o cabeçalho do conjunto de dados.\n",
    "-   `col_types`: especificamos o tipo de dados em cada coluna. Por padrão a linguagem R *advinha* eles para você. Caso queira, especifique manualmente\n",
    "    -   Você pode usar os seguinte tipos: `col_logical()`, `col_integer()`, `col_number()`, `col_character()`.\n",
    "\n",
    "A variável `companhias_aereas` guardará os dados."
   ]
  },
  {
   "cell_type": "code",
   "execution_count": 6,
   "id": "5b28ee22-be71-4adc-a859-b0e231d73536",
   "metadata": {},
   "outputs": [],
   "source": [
    "# url onde os dados estão localizados\n",
    "# url <- \"https://dax-cdn.cdn.appdomain.cloud/dax-airline/1.0.1/lax_to_jfk.tar.gz\"\n",
    "\n",
    "# download do arquivo\n",
    "#download.file(url, destfile = \"lax_to_jfk.tar.gz\")\n",
    "\n",
    "# extrair arquivo \n",
    "#untar(\"lax_to_jfk.tar.gz\", tar = \"internal\")\n",
    "\n",
    "# Lemos o arquivo csv => read_csv (Se for de um formato diferente use a função apropriada, verifique a documentação de readr)\n",
    "# companhias_aereas <- read_csv(\"lax_to_jfk/lax_to_jfk.csv\",\n",
    "#                     col_types = cols(\n",
    "#                      'DivDistance' = col_number(),\n",
    "#                      'DivArrDelay' = col_number()\n",
    "#                      ))\n",
    "\n",
    "# O arquivo já está instalado, portanto leremos direto do diretório dados\n",
    "companhias_aereas <- read_csv(\"dados/losAngeles_para_novaYork.csv\",\n",
    "                     col_types = cols(\n",
    "                      'DivDistance' = col_number(),\n",
    "                      'DivArrDelay' = col_number()\n",
    "                      ))"
   ]
  },
  {
   "cell_type": "markdown",
   "id": "42bd75f3-373e-4c5f-b0c1-cad00e325b08",
   "metadata": {},
   "source": [
    "Uma vez lido o conjunto de dados, vamos fazer algumas análises iniciais sobre ele.\n",
    "\n",
    "-   `head(dataframe, n)`: Retorna as primeiras 6 linhas do conjunto de dados se `n` não for especificado\n",
    "-   `tail(dataframe, n)`: Retorna as últimas 6 linhas do conjunto de dados se `n` não for especificado\n",
    "-   `colnames(dataframe)`: Retorna o nome das colunas\n",
    "-   `dim(dataframe)`: Retorna as dimensões do conjunto de dados."
   ]
  },
  {
   "cell_type": "code",
   "execution_count": 5,
   "id": "98dc5122-2e2e-4ed5-8140-20e62e85802e",
   "metadata": {},
   "outputs": [
    {
     "data": {
      "text/html": [
       "<table>\n",
       "<caption>A tibble: 3 × 21</caption>\n",
       "<thead>\n",
       "\t<tr><th scope=col>Month</th><th scope=col>DayOfWeek</th><th scope=col>FlightDate</th><th scope=col>Reporting_Airline</th><th scope=col>Origin</th><th scope=col>Dest</th><th scope=col>CRSDepTime</th><th scope=col>CRSArrTime</th><th scope=col>DepTime</th><th scope=col>ArrTime</th><th scope=col>⋯</th><th scope=col>ArrDelayMinutes</th><th scope=col>CarrierDelay</th><th scope=col>WeatherDelay</th><th scope=col>NASDelay</th><th scope=col>SecurityDelay</th><th scope=col>LateAircraftDelay</th><th scope=col>DepDelay</th><th scope=col>DepDelayMinutes</th><th scope=col>DivDistance</th><th scope=col>DivArrDelay</th></tr>\n",
       "\t<tr><th scope=col>&lt;dbl&gt;</th><th scope=col>&lt;dbl&gt;</th><th scope=col>&lt;date&gt;</th><th scope=col>&lt;chr&gt;</th><th scope=col>&lt;chr&gt;</th><th scope=col>&lt;chr&gt;</th><th scope=col>&lt;chr&gt;</th><th scope=col>&lt;chr&gt;</th><th scope=col>&lt;chr&gt;</th><th scope=col>&lt;chr&gt;</th><th scope=col>⋯</th><th scope=col>&lt;dbl&gt;</th><th scope=col>&lt;dbl&gt;</th><th scope=col>&lt;dbl&gt;</th><th scope=col>&lt;dbl&gt;</th><th scope=col>&lt;dbl&gt;</th><th scope=col>&lt;dbl&gt;</th><th scope=col>&lt;dbl&gt;</th><th scope=col>&lt;dbl&gt;</th><th scope=col>&lt;dbl&gt;</th><th scope=col>&lt;dbl&gt;</th></tr>\n",
       "</thead>\n",
       "<tbody>\n",
       "\t<tr><td> 3</td><td>5</td><td>2003-03-28</td><td>UA</td><td>LAX</td><td>JFK</td><td>2210</td><td>0615</td><td>2209</td><td>0617</td><td>⋯</td><td>2</td><td>NA</td><td>NA</td><td>NA</td><td>NA</td><td>NA</td><td>-1</td><td>0</td><td>NA</td><td>NA</td></tr>\n",
       "\t<tr><td>11</td><td>4</td><td>2018-11-29</td><td>AS</td><td>LAX</td><td>JFK</td><td>1045</td><td>1912</td><td>1049</td><td>1851</td><td>⋯</td><td>0</td><td>NA</td><td>NA</td><td>NA</td><td>NA</td><td>NA</td><td> 4</td><td>4</td><td>NA</td><td>NA</td></tr>\n",
       "\t<tr><td> 8</td><td>5</td><td>2015-08-28</td><td>UA</td><td>LAX</td><td>JFK</td><td>0805</td><td>1634</td><td>0757</td><td>1620</td><td>⋯</td><td>0</td><td>NA</td><td>NA</td><td>NA</td><td>NA</td><td>NA</td><td>-8</td><td>0</td><td>NA</td><td>NA</td></tr>\n",
       "</tbody>\n",
       "</table>\n"
      ],
      "text/latex": [
       "A tibble: 3 × 21\n",
       "\\begin{tabular}{lllllllllllllllllllll}\n",
       " Month & DayOfWeek & FlightDate & Reporting\\_Airline & Origin & Dest & CRSDepTime & CRSArrTime & DepTime & ArrTime & ⋯ & ArrDelayMinutes & CarrierDelay & WeatherDelay & NASDelay & SecurityDelay & LateAircraftDelay & DepDelay & DepDelayMinutes & DivDistance & DivArrDelay\\\\\n",
       " <dbl> & <dbl> & <date> & <chr> & <chr> & <chr> & <chr> & <chr> & <chr> & <chr> & ⋯ & <dbl> & <dbl> & <dbl> & <dbl> & <dbl> & <dbl> & <dbl> & <dbl> & <dbl> & <dbl>\\\\\n",
       "\\hline\n",
       "\t  3 & 5 & 2003-03-28 & UA & LAX & JFK & 2210 & 0615 & 2209 & 0617 & ⋯ & 2 & NA & NA & NA & NA & NA & -1 & 0 & NA & NA\\\\\n",
       "\t 11 & 4 & 2018-11-29 & AS & LAX & JFK & 1045 & 1912 & 1049 & 1851 & ⋯ & 0 & NA & NA & NA & NA & NA &  4 & 4 & NA & NA\\\\\n",
       "\t  8 & 5 & 2015-08-28 & UA & LAX & JFK & 0805 & 1634 & 0757 & 1620 & ⋯ & 0 & NA & NA & NA & NA & NA & -8 & 0 & NA & NA\\\\\n",
       "\\end{tabular}\n"
      ],
      "text/markdown": [
       "\n",
       "A tibble: 3 × 21\n",
       "\n",
       "| Month &lt;dbl&gt; | DayOfWeek &lt;dbl&gt; | FlightDate &lt;date&gt; | Reporting_Airline &lt;chr&gt; | Origin &lt;chr&gt; | Dest &lt;chr&gt; | CRSDepTime &lt;chr&gt; | CRSArrTime &lt;chr&gt; | DepTime &lt;chr&gt; | ArrTime &lt;chr&gt; | ⋯ ⋯ | ArrDelayMinutes &lt;dbl&gt; | CarrierDelay &lt;dbl&gt; | WeatherDelay &lt;dbl&gt; | NASDelay &lt;dbl&gt; | SecurityDelay &lt;dbl&gt; | LateAircraftDelay &lt;dbl&gt; | DepDelay &lt;dbl&gt; | DepDelayMinutes &lt;dbl&gt; | DivDistance &lt;dbl&gt; | DivArrDelay &lt;dbl&gt; |\n",
       "|---|---|---|---|---|---|---|---|---|---|---|---|---|---|---|---|---|---|---|---|---|\n",
       "|  3 | 5 | 2003-03-28 | UA | LAX | JFK | 2210 | 0615 | 2209 | 0617 | ⋯ | 2 | NA | NA | NA | NA | NA | -1 | 0 | NA | NA |\n",
       "| 11 | 4 | 2018-11-29 | AS | LAX | JFK | 1045 | 1912 | 1049 | 1851 | ⋯ | 0 | NA | NA | NA | NA | NA |  4 | 4 | NA | NA |\n",
       "|  8 | 5 | 2015-08-28 | UA | LAX | JFK | 0805 | 1634 | 0757 | 1620 | ⋯ | 0 | NA | NA | NA | NA | NA | -8 | 0 | NA | NA |\n",
       "\n"
      ],
      "text/plain": [
       "  Month DayOfWeek FlightDate Reporting_Airline Origin Dest CRSDepTime\n",
       "1  3    5         2003-03-28 UA                LAX    JFK  2210      \n",
       "2 11    4         2018-11-29 AS                LAX    JFK  1045      \n",
       "3  8    5         2015-08-28 UA                LAX    JFK  0805      \n",
       "  CRSArrTime DepTime ArrTime ⋯ ArrDelayMinutes CarrierDelay WeatherDelay\n",
       "1 0615       2209    0617    ⋯ 2               NA           NA          \n",
       "2 1912       1049    1851    ⋯ 0               NA           NA          \n",
       "3 1634       0757    1620    ⋯ 0               NA           NA          \n",
       "  NASDelay SecurityDelay LateAircraftDelay DepDelay DepDelayMinutes DivDistance\n",
       "1 NA       NA            NA                -1       0               NA         \n",
       "2 NA       NA            NA                 4       4               NA         \n",
       "3 NA       NA            NA                -8       0               NA         \n",
       "  DivArrDelay\n",
       "1 NA         \n",
       "2 NA         \n",
       "3 NA         "
      ]
     },
     "metadata": {},
     "output_type": "display_data"
    }
   ],
   "source": [
    "# mostra as 3 primeiras linhas\n",
    "head(companhias_aereas, 3)"
   ]
  },
  {
   "cell_type": "code",
   "execution_count": 6,
   "id": "988b8f1c-f063-4599-b3b8-e9c746eb9b86",
   "metadata": {},
   "outputs": [
    {
     "data": {
      "text/html": [
       "<table>\n",
       "<caption>A tibble: 3 × 21</caption>\n",
       "<thead>\n",
       "\t<tr><th scope=col>Month</th><th scope=col>DayOfWeek</th><th scope=col>FlightDate</th><th scope=col>Reporting_Airline</th><th scope=col>Origin</th><th scope=col>Dest</th><th scope=col>CRSDepTime</th><th scope=col>CRSArrTime</th><th scope=col>DepTime</th><th scope=col>ArrTime</th><th scope=col>⋯</th><th scope=col>ArrDelayMinutes</th><th scope=col>CarrierDelay</th><th scope=col>WeatherDelay</th><th scope=col>NASDelay</th><th scope=col>SecurityDelay</th><th scope=col>LateAircraftDelay</th><th scope=col>DepDelay</th><th scope=col>DepDelayMinutes</th><th scope=col>DivDistance</th><th scope=col>DivArrDelay</th></tr>\n",
       "\t<tr><th scope=col>&lt;dbl&gt;</th><th scope=col>&lt;dbl&gt;</th><th scope=col>&lt;date&gt;</th><th scope=col>&lt;chr&gt;</th><th scope=col>&lt;chr&gt;</th><th scope=col>&lt;chr&gt;</th><th scope=col>&lt;chr&gt;</th><th scope=col>&lt;chr&gt;</th><th scope=col>&lt;chr&gt;</th><th scope=col>&lt;chr&gt;</th><th scope=col>⋯</th><th scope=col>&lt;dbl&gt;</th><th scope=col>&lt;dbl&gt;</th><th scope=col>&lt;dbl&gt;</th><th scope=col>&lt;dbl&gt;</th><th scope=col>&lt;dbl&gt;</th><th scope=col>&lt;dbl&gt;</th><th scope=col>&lt;dbl&gt;</th><th scope=col>&lt;dbl&gt;</th><th scope=col>&lt;dbl&gt;</th><th scope=col>&lt;dbl&gt;</th></tr>\n",
       "</thead>\n",
       "<tbody>\n",
       "\t<tr><td>1</td><td>3</td><td>2010-01-06</td><td>DL</td><td>LAX</td><td>JFK</td><td>2125</td><td>0543</td><td>2118</td><td>0540</td><td>⋯</td><td>0</td><td>NA</td><td>NA</td><td>NA</td><td>NA</td><td>NA</td><td>-7</td><td>0</td><td>NA</td><td>NA</td></tr>\n",
       "\t<tr><td>5</td><td>5</td><td>2009-05-15</td><td>AA</td><td>LAX</td><td>JFK</td><td>2115</td><td>0535</td><td>2119</td><td>0533</td><td>⋯</td><td>0</td><td>NA</td><td>NA</td><td>NA</td><td>NA</td><td>NA</td><td> 4</td><td>4</td><td>NA</td><td>NA</td></tr>\n",
       "\t<tr><td>7</td><td>4</td><td>2000-07-06</td><td>AA</td><td>LAX</td><td>JFK</td><td>2200</td><td>0622</td><td>2158</td><td>0610</td><td>⋯</td><td>0</td><td>NA</td><td>NA</td><td>NA</td><td>NA</td><td>NA</td><td>-2</td><td>0</td><td>NA</td><td>NA</td></tr>\n",
       "</tbody>\n",
       "</table>\n"
      ],
      "text/latex": [
       "A tibble: 3 × 21\n",
       "\\begin{tabular}{lllllllllllllllllllll}\n",
       " Month & DayOfWeek & FlightDate & Reporting\\_Airline & Origin & Dest & CRSDepTime & CRSArrTime & DepTime & ArrTime & ⋯ & ArrDelayMinutes & CarrierDelay & WeatherDelay & NASDelay & SecurityDelay & LateAircraftDelay & DepDelay & DepDelayMinutes & DivDistance & DivArrDelay\\\\\n",
       " <dbl> & <dbl> & <date> & <chr> & <chr> & <chr> & <chr> & <chr> & <chr> & <chr> & ⋯ & <dbl> & <dbl> & <dbl> & <dbl> & <dbl> & <dbl> & <dbl> & <dbl> & <dbl> & <dbl>\\\\\n",
       "\\hline\n",
       "\t 1 & 3 & 2010-01-06 & DL & LAX & JFK & 2125 & 0543 & 2118 & 0540 & ⋯ & 0 & NA & NA & NA & NA & NA & -7 & 0 & NA & NA\\\\\n",
       "\t 5 & 5 & 2009-05-15 & AA & LAX & JFK & 2115 & 0535 & 2119 & 0533 & ⋯ & 0 & NA & NA & NA & NA & NA &  4 & 4 & NA & NA\\\\\n",
       "\t 7 & 4 & 2000-07-06 & AA & LAX & JFK & 2200 & 0622 & 2158 & 0610 & ⋯ & 0 & NA & NA & NA & NA & NA & -2 & 0 & NA & NA\\\\\n",
       "\\end{tabular}\n"
      ],
      "text/markdown": [
       "\n",
       "A tibble: 3 × 21\n",
       "\n",
       "| Month &lt;dbl&gt; | DayOfWeek &lt;dbl&gt; | FlightDate &lt;date&gt; | Reporting_Airline &lt;chr&gt; | Origin &lt;chr&gt; | Dest &lt;chr&gt; | CRSDepTime &lt;chr&gt; | CRSArrTime &lt;chr&gt; | DepTime &lt;chr&gt; | ArrTime &lt;chr&gt; | ⋯ ⋯ | ArrDelayMinutes &lt;dbl&gt; | CarrierDelay &lt;dbl&gt; | WeatherDelay &lt;dbl&gt; | NASDelay &lt;dbl&gt; | SecurityDelay &lt;dbl&gt; | LateAircraftDelay &lt;dbl&gt; | DepDelay &lt;dbl&gt; | DepDelayMinutes &lt;dbl&gt; | DivDistance &lt;dbl&gt; | DivArrDelay &lt;dbl&gt; |\n",
       "|---|---|---|---|---|---|---|---|---|---|---|---|---|---|---|---|---|---|---|---|---|\n",
       "| 1 | 3 | 2010-01-06 | DL | LAX | JFK | 2125 | 0543 | 2118 | 0540 | ⋯ | 0 | NA | NA | NA | NA | NA | -7 | 0 | NA | NA |\n",
       "| 5 | 5 | 2009-05-15 | AA | LAX | JFK | 2115 | 0535 | 2119 | 0533 | ⋯ | 0 | NA | NA | NA | NA | NA |  4 | 4 | NA | NA |\n",
       "| 7 | 4 | 2000-07-06 | AA | LAX | JFK | 2200 | 0622 | 2158 | 0610 | ⋯ | 0 | NA | NA | NA | NA | NA | -2 | 0 | NA | NA |\n",
       "\n"
      ],
      "text/plain": [
       "  Month DayOfWeek FlightDate Reporting_Airline Origin Dest CRSDepTime\n",
       "1 1     3         2010-01-06 DL                LAX    JFK  2125      \n",
       "2 5     5         2009-05-15 AA                LAX    JFK  2115      \n",
       "3 7     4         2000-07-06 AA                LAX    JFK  2200      \n",
       "  CRSArrTime DepTime ArrTime ⋯ ArrDelayMinutes CarrierDelay WeatherDelay\n",
       "1 0543       2118    0540    ⋯ 0               NA           NA          \n",
       "2 0535       2119    0533    ⋯ 0               NA           NA          \n",
       "3 0622       2158    0610    ⋯ 0               NA           NA          \n",
       "  NASDelay SecurityDelay LateAircraftDelay DepDelay DepDelayMinutes DivDistance\n",
       "1 NA       NA            NA                -7       0               NA         \n",
       "2 NA       NA            NA                 4       4               NA         \n",
       "3 NA       NA            NA                -2       0               NA         \n",
       "  DivArrDelay\n",
       "1 NA         \n",
       "2 NA         \n",
       "3 NA         "
      ]
     },
     "metadata": {},
     "output_type": "display_data"
    }
   ],
   "source": [
    "# mostra as 3 últimas linhas\n",
    "tail(companhias_aereas, 3)"
   ]
  },
  {
   "cell_type": "markdown",
   "id": "fa359a9a-a408-41cb-8872-7a474cd7594d",
   "metadata": {},
   "source": [
    "<a id=\"cell3\"></a>\n",
    "\n",
    "<h3>Entendendo Dados</h3>\n",
    "\n",
    "Como mencionado anteriormente, estamos interessados em voos feitos de Los Angeles para Nova York, representados respectivamente por LAX e JFK no nosso dataset (usaremos o termo em inglês dataset para nos referimos a conjunto de dados). A sigla JFK faz referência ao Aeroporto Internacional John F. Kennedy. Também queremos focar em informações referentes a possíveis atrasos, as colunas ArrDelay(Atraso na chegada), SecurityDelay (Atraso devido a medidas de segurança), CarrierDelay(atrasos que são causados pela companhia aérea como limpeza do avião), e outras são objetos da nossa análise."
   ]
  },
  {
   "cell_type": "code",
   "execution_count": 7,
   "id": "f2b013af-479a-481c-bd5a-dc9aeaea42e1",
   "metadata": {},
   "outputs": [
    {
     "data": {
      "text/html": [
       "<style>\n",
       ".list-inline {list-style: none; margin:0; padding: 0}\n",
       ".list-inline>li {display: inline-block}\n",
       ".list-inline>li:not(:last-child)::after {content: \"\\00b7\"; padding: 0 .5ex}\n",
       "</style>\n",
       "<ol class=list-inline><li>2855</li><li>21</li></ol>\n"
      ],
      "text/latex": [
       "\\begin{enumerate*}\n",
       "\\item 2855\n",
       "\\item 21\n",
       "\\end{enumerate*}\n"
      ],
      "text/markdown": [
       "1. 2855\n",
       "2. 21\n",
       "\n",
       "\n"
      ],
      "text/plain": [
       "[1] 2855   21"
      ]
     },
     "metadata": {},
     "output_type": "display_data"
    },
    {
     "data": {
      "text/html": [
       "<style>\n",
       ".list-inline {list-style: none; margin:0; padding: 0}\n",
       ".list-inline>li {display: inline-block}\n",
       ".list-inline>li:not(:last-child)::after {content: \"\\00b7\"; padding: 0 .5ex}\n",
       "</style>\n",
       "<ol class=list-inline><li>'Month'</li><li>'DayOfWeek'</li><li>'FlightDate'</li><li>'Reporting_Airline'</li><li>'Origin'</li><li>'Dest'</li><li>'CRSDepTime'</li><li>'CRSArrTime'</li><li>'DepTime'</li><li>'ArrTime'</li><li>'ArrDelay'</li><li>'ArrDelayMinutes'</li><li>'CarrierDelay'</li><li>'WeatherDelay'</li><li>'NASDelay'</li><li>'SecurityDelay'</li><li>'LateAircraftDelay'</li><li>'DepDelay'</li><li>'DepDelayMinutes'</li><li>'DivDistance'</li><li>'DivArrDelay'</li></ol>\n"
      ],
      "text/latex": [
       "\\begin{enumerate*}\n",
       "\\item 'Month'\n",
       "\\item 'DayOfWeek'\n",
       "\\item 'FlightDate'\n",
       "\\item 'Reporting\\_Airline'\n",
       "\\item 'Origin'\n",
       "\\item 'Dest'\n",
       "\\item 'CRSDepTime'\n",
       "\\item 'CRSArrTime'\n",
       "\\item 'DepTime'\n",
       "\\item 'ArrTime'\n",
       "\\item 'ArrDelay'\n",
       "\\item 'ArrDelayMinutes'\n",
       "\\item 'CarrierDelay'\n",
       "\\item 'WeatherDelay'\n",
       "\\item 'NASDelay'\n",
       "\\item 'SecurityDelay'\n",
       "\\item 'LateAircraftDelay'\n",
       "\\item 'DepDelay'\n",
       "\\item 'DepDelayMinutes'\n",
       "\\item 'DivDistance'\n",
       "\\item 'DivArrDelay'\n",
       "\\end{enumerate*}\n"
      ],
      "text/markdown": [
       "1. 'Month'\n",
       "2. 'DayOfWeek'\n",
       "3. 'FlightDate'\n",
       "4. 'Reporting_Airline'\n",
       "5. 'Origin'\n",
       "6. 'Dest'\n",
       "7. 'CRSDepTime'\n",
       "8. 'CRSArrTime'\n",
       "9. 'DepTime'\n",
       "10. 'ArrTime'\n",
       "11. 'ArrDelay'\n",
       "12. 'ArrDelayMinutes'\n",
       "13. 'CarrierDelay'\n",
       "14. 'WeatherDelay'\n",
       "15. 'NASDelay'\n",
       "16. 'SecurityDelay'\n",
       "17. 'LateAircraftDelay'\n",
       "18. 'DepDelay'\n",
       "19. 'DepDelayMinutes'\n",
       "20. 'DivDistance'\n",
       "21. 'DivArrDelay'\n",
       "\n",
       "\n"
      ],
      "text/plain": [
       " [1] \"Month\"             \"DayOfWeek\"         \"FlightDate\"       \n",
       " [4] \"Reporting_Airline\" \"Origin\"            \"Dest\"             \n",
       " [7] \"CRSDepTime\"        \"CRSArrTime\"        \"DepTime\"          \n",
       "[10] \"ArrTime\"           \"ArrDelay\"          \"ArrDelayMinutes\"  \n",
       "[13] \"CarrierDelay\"      \"WeatherDelay\"      \"NASDelay\"         \n",
       "[16] \"SecurityDelay\"     \"LateAircraftDelay\" \"DepDelay\"         \n",
       "[19] \"DepDelayMinutes\"   \"DivDistance\"       \"DivArrDelay\"      "
      ]
     },
     "metadata": {},
     "output_type": "display_data"
    }
   ],
   "source": [
    "# A amostra que estamos usando já vem com os voos LAX para JFK separados\n",
    "# e com as colunas que precisamos para análise\n",
    "# As dimensões e nomes das colunas do dataset são:\n",
    "\n",
    "dim(companhias_aereas)\n",
    "colnames(companhias_aereas)"
   ]
  },
  {
   "cell_type": "code",
   "execution_count": 8,
   "id": "db687481-ab69-4a0f-bde5-87f32b2af0b8",
   "metadata": {},
   "outputs": [],
   "source": [
    "# Salvamos o dataset no diretório dados\n",
    "# Não faremos isso pois já temos o dataset salvo na pasta dados.\n",
    "# write_csv(companhias_aereas, \"dados/losAngeles_para_novaYork.csv\")"
   ]
  },
  {
   "cell_type": "code",
   "execution_count": 9,
   "id": "225ef88b-b8cb-4171-8101-0f7e2b5d5948",
   "metadata": {},
   "outputs": [
    {
     "data": {
      "text/html": [
       "<style>\n",
       ".dl-inline {width: auto; margin:0; padding: 0}\n",
       ".dl-inline>dt, .dl-inline>dd {float: none; width: auto; display: inline-block}\n",
       ".dl-inline>dt::after {content: \":\\0020\"; padding-right: .5ex}\n",
       ".dl-inline>dt:not(:first-of-type) {padding-left: .5ex}\n",
       "</style><dl class=dl-inline><dt>Month</dt><dd>'double'</dd><dt>DayOfWeek</dt><dd>'double'</dd><dt>FlightDate</dt><dd>'double'</dd><dt>Reporting_Airline</dt><dd>'character'</dd><dt>Origin</dt><dd>'character'</dd><dt>Dest</dt><dd>'character'</dd><dt>CRSDepTime</dt><dd>'character'</dd><dt>CRSArrTime</dt><dd>'character'</dd><dt>DepTime</dt><dd>'character'</dd><dt>ArrTime</dt><dd>'character'</dd><dt>ArrDelay</dt><dd>'double'</dd><dt>ArrDelayMinutes</dt><dd>'double'</dd><dt>CarrierDelay</dt><dd>'double'</dd><dt>WeatherDelay</dt><dd>'double'</dd><dt>NASDelay</dt><dd>'double'</dd><dt>SecurityDelay</dt><dd>'double'</dd><dt>LateAircraftDelay</dt><dd>'double'</dd><dt>DepDelay</dt><dd>'double'</dd><dt>DepDelayMinutes</dt><dd>'double'</dd><dt>DivDistance</dt><dd>'double'</dd><dt>DivArrDelay</dt><dd>'double'</dd></dl>\n"
      ],
      "text/latex": [
       "\\begin{description*}\n",
       "\\item[Month] 'double'\n",
       "\\item[DayOfWeek] 'double'\n",
       "\\item[FlightDate] 'double'\n",
       "\\item[Reporting\\textbackslash{}\\_Airline] 'character'\n",
       "\\item[Origin] 'character'\n",
       "\\item[Dest] 'character'\n",
       "\\item[CRSDepTime] 'character'\n",
       "\\item[CRSArrTime] 'character'\n",
       "\\item[DepTime] 'character'\n",
       "\\item[ArrTime] 'character'\n",
       "\\item[ArrDelay] 'double'\n",
       "\\item[ArrDelayMinutes] 'double'\n",
       "\\item[CarrierDelay] 'double'\n",
       "\\item[WeatherDelay] 'double'\n",
       "\\item[NASDelay] 'double'\n",
       "\\item[SecurityDelay] 'double'\n",
       "\\item[LateAircraftDelay] 'double'\n",
       "\\item[DepDelay] 'double'\n",
       "\\item[DepDelayMinutes] 'double'\n",
       "\\item[DivDistance] 'double'\n",
       "\\item[DivArrDelay] 'double'\n",
       "\\end{description*}\n"
      ],
      "text/markdown": [
       "Month\n",
       ":   'double'DayOfWeek\n",
       ":   'double'FlightDate\n",
       ":   'double'Reporting_Airline\n",
       ":   'character'Origin\n",
       ":   'character'Dest\n",
       ":   'character'CRSDepTime\n",
       ":   'character'CRSArrTime\n",
       ":   'character'DepTime\n",
       ":   'character'ArrTime\n",
       ":   'character'ArrDelay\n",
       ":   'double'ArrDelayMinutes\n",
       ":   'double'CarrierDelay\n",
       ":   'double'WeatherDelay\n",
       ":   'double'NASDelay\n",
       ":   'double'SecurityDelay\n",
       ":   'double'LateAircraftDelay\n",
       ":   'double'DepDelay\n",
       ":   'double'DepDelayMinutes\n",
       ":   'double'DivDistance\n",
       ":   'double'DivArrDelay\n",
       ":   'double'\n",
       "\n"
      ],
      "text/plain": [
       "            Month         DayOfWeek        FlightDate Reporting_Airline \n",
       "         \"double\"          \"double\"          \"double\"       \"character\" \n",
       "           Origin              Dest        CRSDepTime        CRSArrTime \n",
       "      \"character\"       \"character\"       \"character\"       \"character\" \n",
       "          DepTime           ArrTime          ArrDelay   ArrDelayMinutes \n",
       "      \"character\"       \"character\"          \"double\"          \"double\" \n",
       "     CarrierDelay      WeatherDelay          NASDelay     SecurityDelay \n",
       "         \"double\"          \"double\"          \"double\"          \"double\" \n",
       "LateAircraftDelay          DepDelay   DepDelayMinutes       DivDistance \n",
       "         \"double\"          \"double\"          \"double\"          \"double\" \n",
       "      DivArrDelay \n",
       "         \"double\" "
      ]
     },
     "metadata": {},
     "output_type": "display_data"
    }
   ],
   "source": [
    "#Descobrir o tipo de dados no dataset\n",
    "\n",
    "sapply(companhias_aereas, typeof) "
   ]
  },
  {
   "cell_type": "markdown",
   "id": "45dd6daa-128f-4c21-9d6b-67845f998989",
   "metadata": {},
   "source": [
    "<a id=\"cell4\"></a>\n",
    "\n",
    "<h3> Dplyr para manipulação e transformação de dados </h3>\n",
    "\n",
    "Algumas funções do pacote dplyr:\n",
    "\n",
    "-   `select()` Seleciona\n",
    "-   `filter()` Filtra\n",
    "-   `summarize()` Resume\n",
    "-   `arrange()` Organiza linhas de dados por valores das colunas\n",
    "-   `mutate()` Adiciona novas variáveis\n",
    "-   `group_by()` Agrupa dados em um novo dataset"
   ]
  },
  {
   "cell_type": "code",
   "execution_count": 10,
   "id": "cfae3217-210a-4fe7-a34a-c524ce971110",
   "metadata": {},
   "outputs": [
    {
     "data": {
      "text/html": [
       "<table>\n",
       "<caption>A tibble: 9 × 2</caption>\n",
       "<thead>\n",
       "\t<tr><th scope=col>Reporting_Airline</th><th scope=col>atraso_Companhia</th></tr>\n",
       "\t<tr><th scope=col>&lt;chr&gt;</th><th scope=col>&lt;dbl&gt;</th></tr>\n",
       "</thead>\n",
       "<tbody>\n",
       "\t<tr><td>AA    </td><td> 0.5939781</td></tr>\n",
       "\t<tr><td>AS    </td><td>-1.1111111</td></tr>\n",
       "\t<tr><td>B6    </td><td> 7.8139535</td></tr>\n",
       "\t<tr><td>DL    </td><td> 5.0057034</td></tr>\n",
       "\t<tr><td>HP    </td><td>13.2857143</td></tr>\n",
       "\t<tr><td>PA (1)</td><td>27.9696970</td></tr>\n",
       "\t<tr><td>TW    </td><td>10.4270270</td></tr>\n",
       "\t<tr><td>UA    </td><td> 3.8963093</td></tr>\n",
       "\t<tr><td>VX    </td><td> 6.5193798</td></tr>\n",
       "</tbody>\n",
       "</table>\n"
      ],
      "text/latex": [
       "A tibble: 9 × 2\n",
       "\\begin{tabular}{ll}\n",
       " Reporting\\_Airline & atraso\\_Companhia\\\\\n",
       " <chr> & <dbl>\\\\\n",
       "\\hline\n",
       "\t AA     &  0.5939781\\\\\n",
       "\t AS     & -1.1111111\\\\\n",
       "\t B6     &  7.8139535\\\\\n",
       "\t DL     &  5.0057034\\\\\n",
       "\t HP     & 13.2857143\\\\\n",
       "\t PA (1) & 27.9696970\\\\\n",
       "\t TW     & 10.4270270\\\\\n",
       "\t UA     &  3.8963093\\\\\n",
       "\t VX     &  6.5193798\\\\\n",
       "\\end{tabular}\n"
      ],
      "text/markdown": [
       "\n",
       "A tibble: 9 × 2\n",
       "\n",
       "| Reporting_Airline &lt;chr&gt; | atraso_Companhia &lt;dbl&gt; |\n",
       "|---|---|\n",
       "| AA     |  0.5939781 |\n",
       "| AS     | -1.1111111 |\n",
       "| B6     |  7.8139535 |\n",
       "| DL     |  5.0057034 |\n",
       "| HP     | 13.2857143 |\n",
       "| PA (1) | 27.9696970 |\n",
       "| TW     | 10.4270270 |\n",
       "| UA     |  3.8963093 |\n",
       "| VX     |  6.5193798 |\n",
       "\n"
      ],
      "text/plain": [
       "  Reporting_Airline atraso_Companhia\n",
       "1 AA                 0.5939781      \n",
       "2 AS                -1.1111111      \n",
       "3 B6                 7.8139535      \n",
       "4 DL                 5.0057034      \n",
       "5 HP                13.2857143      \n",
       "6 PA (1)            27.9696970      \n",
       "7 TW                10.4270270      \n",
       "8 UA                 3.8963093      \n",
       "9 VX                 6.5193798      "
      ]
     },
     "metadata": {},
     "output_type": "display_data"
    }
   ],
   "source": [
    "# A média de atrasos na chegada de cada companhia aéra\n",
    "# Os valores na coluna ArrDelay funcionam da seguinte maneira:\n",
    "# Se o valor é positivo houve atraso\n",
    "# Se o valor é negativo ela chegou adiantada ou cedo.\n",
    "# O operador '>' pode ser lido como então\n",
    "\n",
    "companhias_aereas %>%\n",
    "  group_by(Reporting_Airline) %>%\n",
    "  summarize(atraso_Companhia = mean(ArrDelay, na.rm = TRUE))\n",
    "\n",
    "# Podemos observar que a empresa com menor tempo médio de atraso na chegada é a AS"
   ]
  },
  {
   "cell_type": "code",
   "execution_count": 11,
   "id": "49553cae-af8d-4773-84ad-846511a82a2f",
   "metadata": {},
   "outputs": [
    {
     "name": "stdout",
     "output_type": "stream",
     "text": [
      "Rows: 2,855\n",
      "Columns: 21\n",
      "$ Month             <dbl> 3, 11, 8, 4, 11, 4, 12, 12, 2, 3, 10, 8, 6, 2, 8, 3…\n",
      "$ DayOfWeek         <dbl> 5, 4, 5, 7, 3, 1, 1, 3, 4, 4, 4, 5, 4, 3, 7, 6, 4, …\n",
      "$ FlightDate        <date> 2003-03-28, 2018-11-29, 2015-08-28, 2003-04-20, 20…\n",
      "$ Reporting_Airline <chr> \"UA\", \"AS\", \"UA\", \"DL\", \"UA\", \"UA\", \"VX\", \"HP\", \"UA…\n",
      "$ Origin            <chr> \"LAX\", \"LAX\", \"LAX\", \"LAX\", \"LAX\", \"LAX\", \"LAX\", \"L…\n",
      "$ Dest              <chr> \"JFK\", \"JFK\", \"JFK\", \"JFK\", \"JFK\", \"JFK\", \"JFK\", \"J…\n",
      "$ CRSDepTime        <chr> \"2210\", \"1045\", \"0805\", \"2205\", \"0840\", \"1450\", \"10…\n",
      "$ CRSArrTime        <chr> \"0615\", \"1912\", \"1634\", \"0619\", \"1653\", \"2308\", \"19…\n",
      "$ DepTime           <chr> \"2209\", \"1049\", \"0757\", \"2212\", \"0836\", \"1452\", \"10…\n",
      "$ ArrTime           <chr> \"0617\", \"1851\", \"1620\", \"0616\", \"1640\", \"2248\", \"19…\n",
      "$ ArrDelay          <dbl> 2, -21, -14, -3, -13, -20, 1, -40, 25, 7, 5, 34, 21…\n",
      "$ ArrDelayMinutes   <dbl> 2, 0, 0, 0, 0, 0, 1, 0, 25, 7, 5, 34, 21, 0, 14, 68…\n",
      "$ CarrierDelay      <dbl> NA, NA, NA, NA, NA, NA, NA, NA, NA, NA, NA, 11, 0, …\n",
      "$ WeatherDelay      <dbl> NA, NA, NA, NA, NA, NA, NA, NA, NA, NA, NA, 0, 0, N…\n",
      "$ NASDelay          <dbl> NA, NA, NA, NA, NA, NA, NA, NA, NA, NA, NA, 23, 21,…\n",
      "$ SecurityDelay     <dbl> NA, NA, NA, NA, NA, NA, NA, NA, NA, NA, NA, 0, 0, N…\n",
      "$ LateAircraftDelay <dbl> NA, NA, NA, NA, NA, NA, NA, NA, NA, NA, NA, 0, 0, N…\n",
      "$ DepDelay          <dbl> -1, 4, -8, 7, -4, 2, -2, -2, 2, 15, 2, 21, -8, -2, …\n",
      "$ DepDelayMinutes   <dbl> 0, 4, 0, 7, 0, 2, 0, 0, 2, 15, 2, 21, 0, 0, 0, 395,…\n",
      "$ DivDistance       <dbl> NA, NA, NA, NA, NA, NA, NA, NA, NA, NA, NA, NA, NA,…\n",
      "$ DivArrDelay       <dbl> NA, NA, NA, NA, NA, NA, NA, NA, NA, NA, NA, NA, NA,…\n"
     ]
    }
   ],
   "source": [
    "# Um resumo do data_set\n",
    "glimpse(companhias_aereas)"
   ]
  },
  {
   "cell_type": "code",
   "execution_count": null,
   "id": "c432de25-213c-472a-94e8-798f6db2495a",
   "metadata": {},
   "outputs": [],
   "source": []
  },
  {
   "cell_type": "code",
   "execution_count": null,
   "id": "a8d81419-2ffd-4300-9e39-4b3dc14452cd",
   "metadata": {},
   "outputs": [],
   "source": []
  }
 ],
 "metadata": {
  "kernelspec": {
   "display_name": "R",
   "language": "R",
   "name": "conda-env-r-r"
  },
  "language_info": {
   "codemirror_mode": "r",
   "file_extension": ".r",
   "mimetype": "text/x-r-source",
   "name": "R",
   "pygments_lexer": "r",
   "version": "3.5.1"
  }
 },
 "nbformat": 4,
 "nbformat_minor": 5
}
