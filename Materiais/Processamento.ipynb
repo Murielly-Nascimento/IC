{
 "cells": [
  {
   "cell_type": "markdown",
   "id": "2ea5b7e4-7b4f-456d-8731-af49dc4fad37",
   "metadata": {},
   "source": [
    "<h2>Processamento de Dados</h2>\n",
    "\n",
    "Agora vamos fazer algumas alterações em nosso dataset para prosseguirmos com nossa análise. Esse processo é chamado também de limpeza de dados."
   ]
  },
  {
   "cell_type": "markdown",
   "id": "1fb60713-30dc-4d89-91be-455931497b63",
   "metadata": {},
   "source": [
    "### Sumário:\n",
    "\n",
    "-   [1. Carregando bibliotecas e Dataset](#cell1)\n",
    "-   [2. Valores NA](#cell2)\n",
    "-   [3. Normalizando Dados](#cell3)\n",
    "-   [4. Variável Indicadora](#cell4)"
   ]
  },
  {
   "cell_type": "markdown",
   "id": "f5f4f765-cd4c-4a16-b196-5cffc52d8feb",
   "metadata": {},
   "source": [
    "<h3>Carregando Biblioteca e Dataset</h3>\n",
    "\n",
    "Vamos primeiramente carregar os dados e ferramentas que precisamos."
   ]
  },
  {
   "cell_type": "code",
   "execution_count": null,
   "id": "1376ee43-8269-4542-bbd1-9d65fcc3c7a8",
   "metadata": {},
   "outputs": [],
   "source": [
    "# Carrega tidyverse\n",
    "\n",
    "library(tidyverse)"
   ]
  },
  {
   "cell_type": "markdown",
   "id": "9145e81f-18f9-4aca-9a77-f9366658ee80",
   "metadata": {},
   "source": [
    "A empresa IBM, mantém em seu site uma série de conjunto de dados. Nesse caso usaremos o <a href=\"https://developer.ibm.com/exchanges/data/all/airline/\">Airline Dataset</a> que contém dados de mais de 200 milhões de voos domésticos feitos em território americano, coletados pelo Departamento de Estatísticas de Transporte dos Estados Unidos. Por questões didáticas usaremos a amostra desses dados e não o arquivo inteiro.\n",
    "\n",
    "<ul>\n",
    "    <li>data source: <a href=\"https://dax-cdn.cdn.appdomain.cloud/dax-airline/1.0.1/lax_to_jfk.tar.gz\" target=\"_blank\">https://dax-cdn.cdn.appdomain.cloud/dax-airline/1.0.1/lax_to_jfk.tar.gz</a></li>\n",
    "    <li>data type: csv</li>\n",
    "</ul>"
   ]
  },
  {
   "cell_type": "code",
   "execution_count": null,
   "id": "35672b99-de6f-4c73-99b8-8c881ca0f1fc",
   "metadata": {},
   "outputs": [],
   "source": [
    "# url onde os dados estão localizados\n",
    "# url <- \"https://dax-cdn.cdn.appdomain.cloud/dax-airline/1.0.1/lax_to_jfk.tar.gz\"\n",
    "\n",
    "# download do arquivo\n",
    "#download.file(url, destfile = \"lax_to_jfk.tar.gz\")\n",
    "\n",
    "# extrair arquivo \n",
    "# remova tar = \"internal se estiver rodando este programa localmente\" \n",
    "untar(\"lax_to_jfk.tar.gz\", tar = \"internal\")\n",
    "\n",
    "# Lemos o arquivo csv => read_csv (Se for de um formato diferente use a função apropriada, verifique a documentação de readr)\n",
    "companhias_aereas <- read_csv(\"lax_to_jfk/lax_to_jfk.csv\",\n",
    "                     col_types = cols(\n",
    "                      'DivDistance' = col_number(),\n",
    "                      'DivArrDelay' = col_number()\n",
    "                      ))"
   ]
  },
  {
   "cell_type": "markdown",
   "id": "e916a124-1577-4ea2-b990-fb3c74a707bf",
   "metadata": {},
   "source": [
    "<h3>Valores NA e Formatação</h3>\n",
    "\n",
    "- `NA`: Quando um valor está faltando no dataset a linguagem R atribui o símbolo NA (Not Available) a ele.\n",
    "- `NAN`: Valores impossíveis, como divisão por 0, são representados por NaN(not a number).\n",
    "\n",
    "Podemos usar a função `is.na(x)`, para saber se um elemento x é NA.\n",
    "\n",
    "\n",
    "\n"
   ]
  },
  {
   "cell_type": "code",
   "execution_count": null,
   "id": "3425c27c-dcf4-45c5-b2e9-897c3da4f086",
   "metadata": {},
   "outputs": [],
   "source": [
    "# Observamos que há uma série de dados faltando no dataset\n",
    "\n",
    "head(companhias_aereas)"
   ]
  },
  {
   "cell_type": "code",
   "execution_count": null,
   "id": "6147f185-e762-4baf-9cac-37596f590c5d",
   "metadata": {},
   "outputs": [],
   "source": [
    "# Contamos a quantidade de valores faltando no dataset\n",
    "companhias_aereas %>%\n",
    "  summarize(count = sum(is.na(CarrierDelay)))"
   ]
  },
  {
   "cell_type": "markdown",
   "id": "d30d29f6-435f-4fee-9e51-756f86123bc4",
   "metadata": {},
   "source": [
    "Vamos usar `purrr::map()` para contar valores NA em cada coluna. \n",
    "\n",
    "`map()` aplica uma função ou fórmula num elemento\n",
    "\n",
    "-   O símbolo `~` separa o lado esquerdo do direito da fórmula. Geralmente fórmulas são representadas assim: `y ~ x`, no exemplo a seguir de `map()`, usaremos uma função que só precisa do lado direito: sum(is.na(.))\n",
    "-   O `.` representa cada coluna no dataset. \n",
    "\n",
    "Verifique a documentação `?map` e `?formula`, para mais informações."
   ]
  },
  {
   "cell_type": "code",
   "execution_count": null,
   "id": "8c5f78ff-d302-4edd-8cdf-d4708351ffb9",
   "metadata": {},
   "outputs": [],
   "source": [
    "# Aplique a função sum(is.na(.)) para cada coluna.\n",
    "# Em outras palavras, encontre a soma dos valores NA de cada coluna.\n",
    "\n",
    "map(companhias_aereas, ~sum(is.na(.)))"
   ]
  },
  {
   "cell_type": "code",
   "execution_count": null,
   "id": "144634ed-6436-4537-8341-606ab37ff1a0",
   "metadata": {},
   "outputs": [],
   "source": [
    "# Checamos as dimensões do dataset\n",
    "\n",
    "dim(companhias_aereas)"
   ]
  },
  {
   "cell_type": "markdown",
   "id": "1f2f8ec0-d9c7-4317-8021-76c885700f6e",
   "metadata": {},
   "source": [
    "Temos em nosso dataset as seguintes linhas de valores NA.\n",
    "\n",
    "<ol>\n",
    "    <li>\"CarrierDelay\": 2486 dados faltando</li>\n",
    "    <li>\"WeatherDelay\": 2486 dados faltando</li>\n",
    "    <li>\"NASDelay\": 2486 dados faltando</li>\n",
    "    <li>\"SecurityDelay\" : 2486 dados faltando</li>\n",
    "    <li>\"LateAircraftDelay\": 2486 dados faltando</li>\n",
    "    <li>\"DivDistance\": 2855 dados faltando</li>\n",
    "    <li>\"DivArrDelay\": 2855 dados faltando</li>\n",
    "</ol>\n",
    "\n",
    "Há algumas formas de lidar com valores NA. Nesse caso, faremos uma demonstração de como removê-los do dataset"
   ]
  },
  {
   "cell_type": "code",
   "execution_count": null,
   "id": "0b89d062-a0d8-433a-a5e5-f8b181e74c0a",
   "metadata": {},
   "outputs": [],
   "source": [
    "# Vamos armazenar em colunas_NA nosso dataset sem as colunas DivDistance e DivArrDelay\n",
    "colunas_NA <- companhias_aereas %>% select(-DivDistance, -DivArrDelay)\n",
    "\n",
    "# Dimensões do dataset\n",
    "dim(colunas_NA)\n",
    "\n",
    "# Imprime as primeiras linhas do dataset\n",
    "head(colunas_NA)"
   ]
  },
  {
   "cell_type": "markdown",
   "id": "d9f7d70a-0c1d-413e-a41e-459810668ae3",
   "metadata": {},
   "source": [
    "Vamos verificar o tipo de dado usado em cada coluna, assim podemos nos certificar que eles estão no formato correto. Para isso usaremos algumas funções do pacote `dplyr`.\n",
    "\n",
    "\n",
    "| dplyr function |        _all       |              _if |\n",
    "| ------------- | :---------------: | ---------------: |\n",
    "| mutate        |   `mutate_all()`  |    `mutate_if()` |\n",
    "| filter        |   `filter_all()`  |    `filter_if()` |\n",
    "| group_by      |  `group_by_all()` |  `group_by_if()` |\n",
    "| summarize     | `summarize_all()` | `summarize_if()` |\n",
    "\n",
    "O uso de `_all` nas funções significa a sua aplicação em todas as variáveis e o `_if` somente se determinada função é `TRUE`"
   ]
  },
  {
   "cell_type": "code",
   "execution_count": null,
   "id": "e366201e-e7ce-489b-b45e-dbbced31ddb2",
   "metadata": {},
   "outputs": [],
   "source": [
    "# Mostre as classes de cada variável no dataset companhias_aereas\n",
    "\n",
    "companhias_aereas %>% \n",
    "    summarize_all(class) %>% \n",
    "    gather(variable, class)"
   ]
  },
  {
   "cell_type": "code",
   "execution_count": null,
   "id": "ee9eb52d-5d8e-4f07-b956-d449b1dd871a",
   "metadata": {},
   "outputs": [],
   "source": [
    "# Para futuras análises cada dado deve estar no devido formato\n",
    "# Aqui pegamos a coluna FlightDate e a desmembramos nas colunas ano, mês e dia\n",
    "\n",
    "datas_de_voo <- companhias_aereas %>% \n",
    "    separate(FlightDate, sep = \"-\", into = c(\"year\", \"month\", \"day\"))\n",
    "\n",
    "head(datas_de_voo)"
   ]
  },
  {
   "cell_type": "code",
   "execution_count": null,
   "id": "085525f1-6565-4897-8cce-48024329d19a",
   "metadata": {},
   "outputs": [],
   "source": [
    "# Por último, observamos que as colunas ano, mês e dia estão representadas como caracteres\n",
    "# Iremos modificá-los para inteiros\n",
    "# A função abaixo pode ser traduzida como:\n",
    "# \"Modifique todos os valores nas colunas ano,mês e dia se eles forem caracteres\"\n",
    "\n",
    "datas_de_voo %>%\n",
    "    select(year, month, day) %>%\n",
    "    mutate_all(type.convert) %>%\n",
    "    mutate_if(is.character, as.numeric)"
   ]
  },
  {
   "cell_type": "markdown",
   "id": "f2b9d767-d39e-46be-83d5-40e544c0cc2d",
   "metadata": {},
   "source": [
    "<h3>Normalizando Dados</h3>\n",
    "\n",
    "É o processo de trazer dados distintos para um mesmo \"alcance\". Suponha, por exemplo, que você queira comparar idades de pessoas com seus respectivos salários. Este tipo de dado (salário) invariávelmente teria mais peso no modelo de análise. A fim de solucionar esse problema vamos usar a distribuição normal que é dada pela seguinte fórmula:\n",
    "\n",
    "$$x_{new} = \\frac{x_{old} - \\mu}{\\sigma}$$\n",
    "\n",
    "${\\mu}$: É a média dos valores\n",
    "\n",
    "${\\sigma}$: É o desvio padrão\n",
    "\n",
    "${X}$: É uma variável qualquer.\n",
    "\n",
    "Geralmente o resultado é uma série de valores variando de 0 a 1.\n",
    "\n"
   ]
  },
  {
   "cell_type": "code",
   "execution_count": null,
   "id": "4c482e11-1832-4055-8dde-fc63f6436d2c",
   "metadata": {},
   "outputs": [],
   "source": [
    "# Usaremos a coluna ArrDelay \n",
    "# No código abaixo mean() calcula a média de ArrDelay e sd() o seu desvio padrão.\n",
    "# Os dados são armazenados em escala_Z \n",
    "# Por fim mostramos os 6 primeiros dados normalizados de ArrDelay na tela\n",
    "\n",
    "escala_Z <- (companhias_aereas$ArrDelay - mean(companhias_aereas$ArrDelay)) / sd(companhias_aereas$ArrDelay)\n",
    "head(escala_Z)"
   ]
  },
  {
   "cell_type": "code",
   "execution_count": null,
   "id": "c778dfdb-8c6f-49b3-9456-74a8914a9a03",
   "metadata": {},
   "outputs": [],
   "source": [
    "head(companhias_aereas$ArrDelay)"
   ]
  },
  {
   "cell_type": "markdown",
   "id": "578c52c2-ff21-4146-aaca-dd650ea32396",
   "metadata": {},
   "source": [
    "<h3>Variável Indicadora</h3>\n",
    "\n",
    "Variáveis Indicadoras são usadas para aplicarmos técnicas de análise em variáveis categóricas. Em nosso dataset, por exemplo temos siglas representando as companhias áreas, caso quissemos números em seu lugar (lembrando que eles serão somente representativos) podemos atribuir-lhes valores `dummy`"
   ]
  },
  {
   "cell_type": "code",
   "execution_count": null,
   "id": "3ea5f4d9-f464-4732-aea6-cd35a64c767c",
   "metadata": {},
   "outputs": [],
   "source": [
    "companhias_aereas %>%\n",
    "  mutate(dummy = 1) %>% # Coluna com um valor\n",
    "  spread(\n",
    "    key = Reporting_Airline, # Usamos a coluna Companhias Aereas e a espalhamos\n",
    "    value = dummy,\n",
    "    fill = 0) %>%\n",
    "  slice(1:5)"
   ]
  },
  {
   "cell_type": "markdown",
   "id": "d4dd4c47-961f-4136-af7d-e4a1e699dc45",
   "metadata": {},
   "source": [
    "Podemos visualizar através de variáveis indicadoras o número de voos reportados por uma companhias aérea."
   ]
  },
  {
   "cell_type": "code",
   "execution_count": null,
   "id": "3cd5471f-c272-4983-87d3-bb18ba6e35a9",
   "metadata": {},
   "outputs": [],
   "source": [
    "companhias_aereas %>% # Começamos com nosso dataset\n",
    "   mutate(Reporting_Airline = factor(Reporting_Airline, #Separamos por fatores\n",
    "                                     labels = c(\"AA\", \"AS\", \"DL\", \"UA\", \"B6\", \"PA (1)\", \"HP\", \"TW\", \"VX\")))%>%\n",
    "  ggplot(aes(Reporting_Airline)) + #aes() ajuda a criar gráficos estilizados\n",
    "  stat_count(width = 0.5) + #ESpessura\n",
    "  labs(x = \"Number of data points in each airline\") # Título do gráfico"
   ]
  },
  {
   "cell_type": "code",
   "execution_count": null,
   "id": "9b7cd161-44c1-46da-ba87-86af5da95f49",
   "metadata": {},
   "outputs": [],
   "source": []
  }
 ],
 "metadata": {
  "kernelspec": {
   "display_name": "R",
   "language": "R",
   "name": "conda-env-r-r"
  },
  "language_info": {
   "codemirror_mode": "r",
   "file_extension": ".r",
   "mimetype": "text/x-r-source",
   "name": "R",
   "pygments_lexer": "r",
   "version": "3.5.1"
  }
 },
 "nbformat": 4,
 "nbformat_minor": 5
}
