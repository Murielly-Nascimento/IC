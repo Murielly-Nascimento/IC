{
 "cells": [
  {
   "cell_type": "markdown",
   "id": "2eff9ad4-75fd-40e6-a6db-0352b6236001",
   "metadata": {},
   "source": [
    "# Análise de Modelos\n",
    "\n",
    "Em exemplos anteriores usamos todo o dataset para treinar nossos modelos. Contudo, o objetivo de um modelo é lidar com novos dados e a partir dele fazer previsões. Dessa forma, se usarmos os mesmos dados para treino e avaliações o modelo mostrará resultados muito otimistas. Portanto, a ideia e treina-lo com uma parte do dataset e usar a outra para testes.\n",
    "\n",
    "## Table of Contents\n",
    "\n",
    "*   [1. Carregando Biblioteca e Dataset](#cell1)\n",
    "*   [2. Avaliação de Modelos](#cell2)"
   ]
  },
  {
   "cell_type": "markdown",
   "id": "0a82f5eb-5c01-490f-8f2f-8e58986e43f3",
   "metadata": {},
   "source": [
    "### Carregando Biblioteca e Dataset\n",
    "\n",
    "Vamos primeiramente carregar os dados e ferramentas que precisamos."
   ]
  },
  {
   "cell_type": "code",
   "execution_count": 1,
   "id": "8e1d862c-a27a-4990-bd90-e94f5b894bc0",
   "metadata": {},
   "outputs": [
    {
     "name": "stderr",
     "output_type": "stream",
     "text": [
      "── Attaching packages ─────────────────────────────────────── tidyverse 1.3.0 ──\n",
      "✔ ggplot2 3.3.0     ✔ purrr   0.3.4\n",
      "✔ tibble  3.0.1     ✔ dplyr   0.8.5\n",
      "✔ tidyr   1.0.2     ✔ stringr 1.4.0\n",
      "✔ readr   1.3.1     ✔ forcats 0.5.0\n",
      "── Conflicts ────────────────────────────────────────── tidyverse_conflicts() ──\n",
      "✖ dplyr::filter() masks stats::filter()\n",
      "✖ dplyr::lag()    masks stats::lag()\n"
     ]
    }
   ],
   "source": [
    "# Carrega tidyverse\n",
    "library(tidyverse)"
   ]
  },
  {
   "cell_type": "code",
   "execution_count": 2,
   "id": "90e2e489-459d-4a95-baa9-f5df68f9b9ae",
   "metadata": {},
   "outputs": [
    {
     "name": "stderr",
     "output_type": "stream",
     "text": [
      "Updating HTML index of packages in '.Library'\n",
      "Making 'packages.html' ... done\n",
      "also installing the dependencies ‘listenv’, ‘parallelly’, ‘cachem’, ‘future’, ‘warp’, ‘lhs’, ‘memoise’, ‘DiceDesign’, ‘vctrs’, ‘lifecycle’, ‘tidyselect’, ‘pillar’, ‘patchwork’, ‘generics’, ‘globals’, ‘hardhat’, ‘ipred’, ‘furrr’, ‘slider’, ‘ellipsis’, ‘cpp11’, ‘GPfit’, ‘broom’, ‘cli’, ‘conflicted’, ‘dials’, ‘dplyr’, ‘ggplot2’, ‘infer’, ‘modeldata’, ‘parsnip’, ‘recipes’, ‘rsample’, ‘rstudioapi’, ‘tibble’, ‘tidyr’, ‘tune’, ‘workflows’, ‘workflowsets’, ‘yardstick’\n",
      "\n",
      "Updating HTML index of packages in '.Library'\n",
      "Making 'packages.html' ... done\n"
     ]
    }
   ],
   "source": [
    "# Instalar pacotes rlang e tidymodels\n",
    "install.packages(\"rlang\")\n",
    "install.packages(\"tidymodels\")"
   ]
  },
  {
   "cell_type": "code",
   "execution_count": null,
   "id": "54088743-8ef8-4c94-b2aa-3227ba48b2bf",
   "metadata": {},
   "outputs": [],
   "source": [
    "# Biblioteca para modelos\n",
    "library(tidymodels)\n",
    "\n",
    "# Carrega tidyverse\n",
    "library(tidyverse)"
   ]
  },
  {
   "cell_type": "markdown",
   "id": "70f146a9-a3b7-452e-9c6d-d9e5a97a1fee",
   "metadata": {},
   "source": [
    "A empresa IBM, mantém em seu site uma série de conjunto de dados. Nesse caso usaremos o <a href=\"https://developer.ibm.com/exchanges/data/all/airline/\">Airline Dataset</a> que contém dados de mais de 200 milhões de voos domésticos feitos em território americano, coletados pelo Departamento de Estatísticas de Transporte dos Estados Unidos. Por questões didáticas usaremos a amostra desses dados e não o arquivo inteiro.\n",
    "\n",
    "<ul>\n",
    "    <li>data source: <a href=\"https://dax-cdn.cdn.appdomain.cloud/dax-airline/1.0.1/lax_to_jfk.tar.gz\" target=\"_blank\">https://dax-cdn.cdn.appdomain.cloud/dax-airline/1.0.1/lax_to_jfk.tar.gz</a></li>\n",
    "    <li>data type: csv</li>\n",
    "</ul>"
   ]
  },
  {
   "cell_type": "code",
   "execution_count": null,
   "id": "066c07e2-177f-42e5-81cf-176bcc6f6b67",
   "metadata": {},
   "outputs": [],
   "source": [
    "# url onde os dados estão localizados\n",
    "# url <- \"https://dax-cdn.cdn.appdomain.cloud/dax-airline/1.0.1/lax_to_jfk.tar.gz\"\n",
    "\n",
    "# download do arquivo\n",
    "#download.file(url, destfile = \"lax_to_jfk.tar.gz\")\n",
    "\n",
    "# extrair arquivo \n",
    "# remova tar = \"internal se estiver rodando este programa localmente\" \n",
    "# untar(\"lax_to_jfk.tar.gz\", tar = \"internal\")\n",
    "\n",
    "# Lemos o arquivo csv => read_csv (Se for de um formato diferente use a função apropriada, verifique a documentação de readr)\n",
    "companhias_aereas <- read_csv(\"dados/losAngeles_para_novaYork.csv\",\n",
    "                     col_types = cols(\n",
    "                      'DivDistance' = col_number(),\n",
    "                      'DivArrDelay' = col_number()\n",
    "                      ))"
   ]
  },
  {
   "cell_type": "markdown",
   "id": "ea8e9431-dce8-422b-bcec-ddaf66f3d597",
   "metadata": {},
   "source": [
    "### Avaliação de Modelos\n",
    "\n",
    "Usaremos a biblioteca tidymodels para lidar com aprendizado de máquina, construir dados para treino ou teste e mais. Lembrando da pergunta que estamos tentando responder: Podemos prever atrasos na chegada de um voo? Vamos usar o dataset atrasos para construir nosso modelo."
   ]
  },
  {
   "cell_type": "code",
   "execution_count": null,
   "id": "954d7b07-df2d-4f35-bb9b-10ea4cd02129",
   "metadata": {},
   "outputs": [],
   "source": [
    "# Atrasos é um subconjunto do dataset companhias_aereas.\n",
    "# Removemos os valores NA\n",
    "# E selecionamos as colunas que nos interessam (Atrasos causados pelo tempo (WeatherDelay), Mês(Month)...)\n",
    "atrasos <- companhias_aereas %>% \n",
    "    replace_na(list(CarrierDelay = 0,\n",
    "                    WeatherDelay = 0,\n",
    "                    NASDelay = 0,\n",
    "                    SecurityDelay = 0,\n",
    "                    LateAircraftDelay = 0)) %>%\n",
    "    select(c(ArrDelayMinutes, DepDelayMinutes, CarrierDelay, WeatherDelay, NASDelay, SecurityDelay, LateAircraftDelay, DayOfWeek, Month))\n",
    "atrasos"
   ]
  },
  {
   "cell_type": "markdown",
   "id": "6e0de832-0a94-47e9-8f1c-70aaa9803222",
   "metadata": {},
   "source": [
    "Para construir um modelo é preciso primeiro dividí-lo em um dataset de treino e outro de teste. Então, usa-se a função `set.seed()`para garantir que os subconjuntos gerados a partir do dataset serão sempre os mesmos toda vez que esse código é executado. Observando que por padrão esta função divide 75% dos dados para treino e os 25% restante para teste."
   ]
  },
  {
   "cell_type": "code",
   "execution_count": null,
   "id": "fb2e93c8-0320-433b-91d6-7e0f16cfd1e1",
   "metadata": {},
   "outputs": [],
   "source": [
    "set.seed(1234)\n",
    "subconjunto <- initial_split(atrasos) \n",
    "treino <- training(subconjunto)\n",
    "teste <- testing(subconjunto)"
   ]
  },
  {
   "cell_type": "markdown",
   "id": "0ce237b9-52d1-4561-bba7-8e3f534c083b",
   "metadata": {},
   "source": [
    "Uma vez divido o dataset especifica-se o modelo a ser usado nele. Nesse exemplo, usou-se a regressão linear, a variável atrasos na partida (DepDelayMinutes) para prever atrasos na chegada (ArrDelayMinutes) e treino,por sua vez, é usado para treinar o modelo. O código abaixo demonstra como fazer isso."
   ]
  },
  {
   "cell_type": "code",
   "execution_count": null,
   "id": "7313fb65-9a80-470a-8c90-677824e16aca",
   "metadata": {},
   "outputs": [],
   "source": [
    "# Use regressão linear\n",
    "rl <- linear_reg() %>%\n",
    "  set_engine(engine = \"lm\")\n",
    "\n",
    "# Exiba a função\n",
    "rl"
   ]
  },
  {
   "cell_type": "code",
   "execution_count": null,
   "id": "c008bbd5-a2bc-4259-a640-bd11a3f13cc5",
   "metadata": {},
   "outputs": [],
   "source": [
    "modelo_ajustado <- rl_modelo %>% \n",
    "    # Usa-se fit para ajustar o modelo especificado\n",
    "    fit(ArrDelayMinutes ~ DepDelayMinutes, data = treino)\n",
    "\n",
    "modelo_ajustado "
   ]
  },
  {
   "cell_type": "markdown",
   "id": "85e841ee-8ec8-4430-ae0a-b3366dfa304a",
   "metadata": {},
   "source": [
    "A fim de verificar algumas predições do modelo ajustado usa-se a função `predict()`. Ela produz uma coluna `.pred` com os valores de atrasos na chegada. Nesse caso, ainda não usou-se os dados de teste e sim os de treino. O dataframe criado é salvo na variável resultados_treino."
   ]
  },
  {
   "cell_type": "code",
   "execution_count": null,
   "id": "a76d322d-051d-47b9-9508-01a39221f84b",
   "metadata": {},
   "outputs": [],
   "source": [
    "resultados_treino <- modelo_ajustado %>%\n",
    "  # Faca previsoes e salve os valores\n",
    "  predict(new_data = treino) %>%\n",
    "  # Crie uma nova coluna originais com do treino\n",
    "  mutate(originais = treino$ArrDelayMinutes)\n",
    "\n",
    "head(resultados_treino)"
   ]
  },
  {
   "cell_type": "markdown",
   "id": "468daacb-56f6-47be-9e0f-41e81be6c35d",
   "metadata": {},
   "source": [
    "Para testar o modelo só é preciso trocar a variável treino por teste."
   ]
  },
  {
   "cell_type": "code",
   "execution_count": null,
   "id": "6727df2b-adb4-41c5-836b-3c747aaedb7d",
   "metadata": {},
   "outputs": [],
   "source": [
    "resultados_teste <- modelo_ajustado %>%\n",
    "  predict(new_data = teste) %>%\n",
    "  mutate(originais = teste$ArrDelayMinutes)\n",
    "\n",
    "head(resultados_teste)"
   ]
  },
  {
   "cell_type": "markdown",
   "id": "acf0f77e-e861-4659-bdc9-b07fd78622b1",
   "metadata": {},
   "source": [
    "Para verificar a validade desse modelo, pode-se usar as métricas EQM ou o coeficiente de determinação mencionados anteriormente. Ao invés de aplicar manualmente essas fórmulas é melhor usar as funções `rmse()` e `rsq()`"
   ]
  },
  {
   "cell_type": "code",
   "execution_count": null,
   "id": "8dc90a89-9cf9-4b3b-bcae-c306edf68ab7",
   "metadata": {},
   "outputs": [],
   "source": [
    "# Calcula a raiz do erro quadrátrico médio dos dados obtidos a partir do treino\n",
    "rmse(resultados_treino, truth = originais,\n",
    "     estimate = .pred)"
   ]
  },
  {
   "cell_type": "code",
   "execution_count": null,
   "id": "7bfe6cd9-eb81-4516-bc20-cc5dbf8f4f0d",
   "metadata": {},
   "outputs": [],
   "source": [
    "# Calcula a raiz do erro quadrátrico médio dos dados obtidos a partir do teste\n",
    "rmse(resultados_teste, truth = originais,\n",
    "     estimate = .pred)"
   ]
  },
  {
   "cell_type": "code",
   "execution_count": null,
   "id": "1a8adc30-fcb1-444d-b750-eb42f5d8a7b8",
   "metadata": {},
   "outputs": [],
   "source": [
    "rsq(resultados_treino, truth = originais,\n",
    "    estimate = .pred)"
   ]
  },
  {
   "cell_type": "code",
   "execution_count": null,
   "id": "5b81090a-7fbd-4cba-8ae5-dd2b1a58784d",
   "metadata": {},
   "outputs": [],
   "source": [
    "rsq(resultados_teste, truth = originais,\n",
    "    estimate = .pred)"
   ]
  }
 ],
 "metadata": {
  "kernelspec": {
   "display_name": "R",
   "language": "R",
   "name": "conda-env-r-r"
  },
  "language_info": {
   "codemirror_mode": "r",
   "file_extension": ".r",
   "mimetype": "text/x-r-source",
   "name": "R",
   "pygments_lexer": "r",
   "version": "3.5.1"
  }
 },
 "nbformat": 4,
 "nbformat_minor": 5
}
