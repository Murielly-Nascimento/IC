{
 "cells": [
  {
   "cell_type": "markdown",
   "id": "a3bba160-834f-466a-a3a1-42226439d7c6",
   "metadata": {},
   "source": [
    "<h3>Análises Exploratórias</h3>\n",
    "\n",
    "Usamos técnicas exploratórias para entender menlhor nosso dataset. Nesse caso, iremos a partir delas descobrir as principais razões que levam ao atraso de voos."
   ]
  },
  {
   "cell_type": "markdown",
   "id": "6bb5cf59-c687-4b0b-8799-ca1f14f3d4d4",
   "metadata": {},
   "source": [
    "## Sumário\n",
    "\n",
    "-   [1. Analyzing Individual Feature Patterns using Visualization](#pattern_visualization)   \n",
    "-   [2. Descriptive Statistical Analysis](#discriptive_statistics)\n",
    "-   [3. Basics of Grouping](#basic_grouping)\n",
    "-   [4. Correlation and Causation](#correlation_causation)\n",
    "-   [5. ANOVA](#anova)"
   ]
  },
  {
   "cell_type": "markdown",
   "id": "b3fde7bc-707b-4d4b-ab32-6415656b659c",
   "metadata": {},
   "source": [
    "<h3>Carregando Biblioteca e Dataset</h3>\n",
    "\n",
    "Vamos primeiramente carregar os dados e ferramentas que precisamos."
   ]
  },
  {
   "cell_type": "code",
   "execution_count": 1,
   "id": "bc96f252-973a-4ccb-b8f9-ec3bf3b6dbb8",
   "metadata": {},
   "outputs": [
    {
     "name": "stderr",
     "output_type": "stream",
     "text": [
      "── Attaching packages ─────────────────────────────────────── tidyverse 1.3.0 ──\n",
      "✔ ggplot2 3.3.0     ✔ purrr   0.3.4\n",
      "✔ tibble  3.0.1     ✔ dplyr   0.8.5\n",
      "✔ tidyr   1.0.2     ✔ stringr 1.4.0\n",
      "✔ readr   1.3.1     ✔ forcats 0.5.0\n",
      "── Conflicts ────────────────────────────────────────── tidyverse_conflicts() ──\n",
      "✖ dplyr::filter() masks stats::filter()\n",
      "✖ dplyr::lag()    masks stats::lag()\n"
     ]
    }
   ],
   "source": [
    "# Carrega tidyverse\n",
    "\n",
    "library(tidyverse)"
   ]
  },
  {
   "cell_type": "markdown",
   "id": "12ee9a82-a815-4581-a720-ed1db18858ab",
   "metadata": {},
   "source": [
    "A empresa IBM, mantém em seu site uma série de conjunto de dados. Nesse caso usaremos o <a href=\"https://developer.ibm.com/exchanges/data/all/airline/\">Airline Dataset</a> que contém dados de mais de 200 milhões de voos domésticos feitos em território americano, coletados pelo Departamento de Estatísticas de Transporte dos Estados Unidos. Por questões didáticas usaremos a amostra desses dados e não o arquivo inteiro.\n",
    "\n",
    "<ul>\n",
    "    <li>data source: <a href=\"https://dax-cdn.cdn.appdomain.cloud/dax-airline/1.0.1/lax_to_jfk.tar.gz\" target=\"_blank\">https://dax-cdn.cdn.appdomain.cloud/dax-airline/1.0.1/lax_to_jfk.tar.gz</a></li>\n",
    "    <li>data type: csv</li>\n",
    "</ul>"
   ]
  },
  {
   "cell_type": "code",
   "execution_count": 3,
   "id": "22070201-494f-4b65-9103-f152a92eda59",
   "metadata": {},
   "outputs": [
    {
     "name": "stderr",
     "output_type": "stream",
     "text": [
      "Warning message in untar2(tarfile, files, list, exdir, restore_times):\n",
      "“using pax extended headers”"
     ]
    }
   ],
   "source": [
    "# url onde os dados estão localizados\n",
    "# url <- \"https://dax-cdn.cdn.appdomain.cloud/dax-airline/1.0.1/lax_to_jfk.tar.gz\"\n",
    "\n",
    "# download do arquivo\n",
    "#download.file(url, destfile = \"lax_to_jfk.tar.gz\")\n",
    "\n",
    "# extrair arquivo \n",
    "# remova tar = \"internal se estiver rodando este programa localmente\" \n",
    "untar(\"lax_to_jfk.tar.gz\", tar = \"internal\")\n",
    "\n",
    "# Lemos o arquivo csv => read_csv (Se for de um formato diferente use a função apropriada, verifique a documentação de readr)\n",
    "companhias_aereas <- read_csv(\"lax_to_jfk/lax_to_jfk.csv\",\n",
    "                     col_types = cols(\n",
    "                      'DivDistance' = col_number(),\n",
    "                      'DivArrDelay' = col_number()\n",
    "                      ))"
   ]
  },
  {
   "cell_type": "code",
   "execution_count": null,
   "id": "0133cd23-d6fc-45d4-885a-fa13573d3d87",
   "metadata": {},
   "outputs": [],
   "source": []
  }
 ],
 "metadata": {
  "kernelspec": {
   "display_name": "R",
   "language": "R",
   "name": "conda-env-r-r"
  },
  "language_info": {
   "codemirror_mode": "r",
   "file_extension": ".r",
   "mimetype": "text/x-r-source",
   "name": "R",
   "pygments_lexer": "r",
   "version": "3.5.1"
  }
 },
 "nbformat": 4,
 "nbformat_minor": 5
}
