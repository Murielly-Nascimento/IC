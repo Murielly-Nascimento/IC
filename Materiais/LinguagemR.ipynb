{
 "cells": [
  {
   "cell_type": "markdown",
   "id": "b872588d-73b1-4085-9d0f-e9cad1746057",
   "metadata": {},
   "source": [
    "<h2>Introdução à Linguagem R</h2>\n",
    "\n",
    "Usaremos para análises a linguagem R. Tornando necessário uma pequena introdução a ela.\n",
    "\n",
    "O R é sensitive case, ou seja, diferencia letras maiúsculas de minúsculas, sendo comum o uso da sintaxe camelcase. Nesta, as funções começam com a primeira letras minúscula e as demais maiúsculas.\n",
    "Considerando nosso ambiente de programação os pacotes que precisamos já estão instalados. Localmente você precisará baixá-los primeiro. Use para isso a função `install.packages(Parâmetro 1, Parâmetro 2)`. O parâmetro 1 recebe o nome do pacote, o segundo é do tipo booleano que define se as dependências de um pacote serão instaladas ou não."
   ]
  },
  {
   "cell_type": "code",
   "execution_count": null,
   "id": "2b0f5a76-4213-4360-924c-c43bf9d2d249",
   "metadata": {},
   "outputs": [],
   "source": [
    "# Caso queira instalar o pacote ggplot2\n",
    "# install.packages(\"ggplot2\",dependencies=TRUE)"
   ]
  },
  {
   "cell_type": "code",
   "execution_count": null,
   "id": "7c629f19-73ae-420e-8623-30157d1f687a",
   "metadata": {},
   "outputs": [],
   "source": [
    "# Essa função verifica os pacotes instalados na IDE\n",
    "installed.packages()"
   ]
  },
  {
   "cell_type": "markdown",
   "id": "dfe71e2f-f3a7-4b6c-985c-5f6439dc2f02",
   "metadata": {},
   "source": [
    "Uma vez instalado o pacote é necessário carregá-lo. Por questões de performance o R carrega apenas pacotes básicos durante sua inicialização. Os demais devem ser carregados pelo usuário. Para isso usamos a função `library()`"
   ]
  },
  {
   "cell_type": "code",
   "execution_count": null,
   "id": "5e86664c-de13-492a-885d-53396aa9b368",
   "metadata": {},
   "outputs": [],
   "source": [
    "# Carregando pacotes\n",
    "library(datasets)"
   ]
  },
  {
   "cell_type": "code",
   "execution_count": null,
   "id": "30e8e744-86ad-4fb5-aa14-40850a19d2d2",
   "metadata": {},
   "outputs": [],
   "source": [
    "# Verificamos os pacotes carregados\n",
    "search()"
   ]
  },
  {
   "cell_type": "markdown",
   "id": "f4658da9-169b-4dd2-932f-4a611e3146f2",
   "metadata": {},
   "source": [
    "É bom descarregar um pacote quando ele não for mais necessário, pois uma quantidade massiva deles pode fazer diferença principalmente por serem mantidos na memória."
   ]
  },
  {
   "cell_type": "code",
   "execution_count": null,
   "id": "16c4f188-57b1-4447-be24-bb3ed7fe5588",
   "metadata": {},
   "outputs": [],
   "source": [
    "detach(\"package:datasets\")\n",
    "search()"
   ]
  },
  {
   "cell_type": "code",
   "execution_count": null,
   "id": "8d69a7a6-0cdf-447c-9a4c-f60a3f2ef525",
   "metadata": {},
   "outputs": [],
   "source": [
    "# Caso queria desinstalar um pacote localmente\n",
    "# remove.packages(\"datasets\")"
   ]
  },
  {
   "cell_type": "markdown",
   "id": "3e42515d-1480-4e8e-b662-d9ce1e52ad18",
   "metadata": {},
   "source": [
    "R oferece diversas funções previamente construídas em suas bibliotecas. Não há necessidade de decorar os parâmetros e funcionamento de cada uma delas. Em caso de dúvida, use `?` e o nome da função para obter mais informações sobre ela."
   ]
  },
  {
   "cell_type": "code",
   "execution_count": null,
   "id": "a88560d8-2a09-49bf-a93a-b7eb062a9924",
   "metadata": {},
   "outputs": [],
   "source": [
    "?sd"
   ]
  },
  {
   "cell_type": "code",
   "execution_count": null,
   "id": "587b9f60-5ea8-48e2-a0c3-01e809d76fa9",
   "metadata": {},
   "outputs": [],
   "source": [
    "# Caso queira verificar os argumentos de uma função\n",
    "args(\"sd\")"
   ]
  },
  {
   "cell_type": "markdown",
   "id": "8e858375-563c-40e4-9323-1336672c6df6",
   "metadata": {},
   "source": [
    "<h2>Tipos de Dados</h2>\n",
    "Para atribuir valores a uma variável podemos suar o operador <- ou =.\n",
    "Os tipos de dados mais comuns são caracter,numeric e integer. Podemos verificar a classe de uma variável usando a função `class()` ou `is.numeric()`. Caso queira garantir que ela receba um valor como inteiro use `as.integer()`"
   ]
  },
  {
   "cell_type": "code",
   "execution_count": null,
   "id": "f8c62a8b-2976-4136-9a88-bcb7f161614b",
   "metadata": {},
   "outputs": [],
   "source": [
    "var1 <- 10\n",
    "class(var1)"
   ]
  },
  {
   "cell_type": "code",
   "execution_count": null,
   "id": "36658f32-4b06-46b6-9d7d-dd55beb334e7",
   "metadata": {},
   "outputs": [],
   "source": [
    "var1 <- as.integer(10)\n",
    "class(var1)"
   ]
  },
  {
   "cell_type": "code",
   "execution_count": null,
   "id": "041c463a-d9a4-4f3e-8e67-e9ffff55909b",
   "metadata": {},
   "outputs": [],
   "source": [
    "var2 <- \"Lisboa é a capital de Portugal\"\n",
    "var2"
   ]
  },
  {
   "cell_type": "code",
   "execution_count": null,
   "id": "f7ff1afe-7fed-4292-82d6-973541415757",
   "metadata": {},
   "outputs": [],
   "source": [
    "# Listar os objetos disponíveis no ambiente\n",
    "objects()"
   ]
  },
  {
   "cell_type": "code",
   "execution_count": null,
   "id": "c7aa6c72-7954-4af5-a91e-b9738aec5316",
   "metadata": {},
   "outputs": [],
   "source": [
    "# Para apagar todos os objetos, use a função list para criar um objeto do tipo lista e apague-o usando rm()\n",
    "rm(list=objects())\n",
    "objects()"
   ]
  },
  {
   "cell_type": "markdown",
   "id": "307a3449-d5d7-4c8b-969d-d8aafc165b7c",
   "metadata": {},
   "source": [
    "<h2>Estruturas de Objetos</h2>\n",
    "A linguagem R possui diversas classes que podem armazenar dados em diversas formas e estruturas. Algumas delas são:\n",
    "\n",
    "|  Classe        |  Descrição  |\n",
    "|---------------:|------------:|\n",
    "|       Vetores  | Conjunto simples de valores do mesmo tipo                            |\n",
    "|      Matrizes  | Conjunto bidimensional de valores do mesmo tipo                      |\n",
    "|        Arrays  | Podem ser vetores ou matrizes                                        |\n",
    "|        Listas  | Listas de diferentes objetos, os quais podems ser de tipos diferentes|\n",
    "|   Data Frames  | Parecido com uma tabela de banco de dados                            |\n",
    "|Séries Temporais| Armazena séries de dados temporais                                   |\n",
    "|         Fatores| Armazena variáveis categóricas"
   ]
  },
  {
   "cell_type": "code",
   "execution_count": null,
   "id": "c20409c0-86d5-41bf-970d-7a711c69b7bf",
   "metadata": {},
   "outputs": [],
   "source": [
    "# Lista de dados pré-carregados do R ou IDE\n",
    "data()"
   ]
  },
  {
   "cell_type": "code",
   "execution_count": null,
   "id": "7625f20d-272f-4b2e-ac16-3c75f1339c2f",
   "metadata": {},
   "outputs": [],
   "source": [
    "# Caso queira visualizar uma das datasets basta digitar o seu nome\n",
    "Titanic"
   ]
  },
  {
   "cell_type": "markdown",
   "id": "b6545047-f443-4cf7-a146-59b0eacf8031",
   "metadata": {},
   "source": [
    "### Vetores\n",
    "\n",
    "Assim como em outras linguagens o vetor é um conjunto de dados do mesmo tipo. Podemos criá-lo em R usando a sintaxe c() seguida dos elementos separados por vírgulas. Para acessar uma posição digitamos o nome do vetor e entre colchetes a posição que queremos. Além disso, pode-se solicitar um intervalo de valores usando `:`"
   ]
  },
  {
   "cell_type": "code",
   "execution_count": null,
   "id": "a1f24a81-3ba3-4929-8c67-c834a01298c0",
   "metadata": {},
   "outputs": [],
   "source": [
    "# Usamos c() para criar um vetor\n",
    "vetNum <- c(10,2,3,6,5)\n",
    "vetNum[1]"
   ]
  },
  {
   "cell_type": "code",
   "execution_count": null,
   "id": "e7ba75ea-0150-4c2a-af71-fb07d5c71ee3",
   "metadata": {},
   "outputs": [],
   "source": [
    "vetNum <- c(1:10)\n",
    "vetNum"
   ]
  },
  {
   "cell_type": "markdown",
   "id": "644d5652-5fbf-41b6-bbdf-4a0b7d1dfc82",
   "metadata": {},
   "source": [
    "### Matrizes e Arrays\n",
    "\n",
    "Matrizes são limitadas a duas dimensões (linhas e colunas), enquanto Arrays podem conter 1, 2 ou mais. Criamos a primeira estrutura usando a função matrix(), cujos argumentos são um vetor, o número de linhas, o número de colunas e como o preenchimento ocorrerá, se pelas linhas ou colunas."
   ]
  },
  {
   "cell_type": "code",
   "execution_count": null,
   "id": "51a3f49e-73ca-485a-9e6c-f87bfbde6317",
   "metadata": {},
   "outputs": [],
   "source": [
    "# Preenchimento pelas linhas\n",
    "Matriz = matrix(c(1,2,3,4,5,6),nrow=2,ncol=3,byrow=TRUE)\n",
    "Matriz"
   ]
  },
  {
   "cell_type": "code",
   "execution_count": null,
   "id": "49f5da95-12dd-4d76-b56b-22674450eb28",
   "metadata": {},
   "outputs": [],
   "source": [
    "# Preenchimento pelas colunas\n",
    "Matriz = matrix(c(1,2,3,4,5,6),nrow=2,ncol=3,byrow=FALSE)\n",
    "Matriz"
   ]
  },
  {
   "cell_type": "code",
   "execution_count": null,
   "id": "9765d32c-8065-4288-a1a1-b3c495723453",
   "metadata": {},
   "outputs": [],
   "source": []
  }
 ],
 "metadata": {
  "kernelspec": {
   "display_name": "R",
   "language": "R",
   "name": "conda-env-r-r"
  },
  "language_info": {
   "codemirror_mode": "r",
   "file_extension": ".r",
   "mimetype": "text/x-r-source",
   "name": "R",
   "pygments_lexer": "r",
   "version": "3.5.1"
  }
 },
 "nbformat": 4,
 "nbformat_minor": 5
}
